{
 "cells": [
  {
   "cell_type": "code",
   "execution_count": 2,
   "id": "29117d3c",
   "metadata": {},
   "outputs": [
    {
     "name": "stdout",
     "output_type": "stream",
     "text": [
      "Note: you may need to restart the kernel to use updated packages.\n"
     ]
    }
   ],
   "source": [
    "%pip install --quiet --upgrade langchain langchain-openai langchain-pinecone pinecone-client pypdf transformers python-dotenv"
   ]
  },
  {
   "cell_type": "code",
   "execution_count": 3,
   "id": "ebc87bb9-bd73-4544-88c0-b5efc0b034a4",
   "metadata": {},
   "outputs": [
    {
     "name": "stdout",
     "output_type": "stream",
     "text": [
      "Note: you may need to restart the kernel to use updated packages.\n"
     ]
    }
   ],
   "source": [
    "%pip install --quiet --upgrade langchain-text-splitters langchain-community"
   ]
  },
  {
   "cell_type": "code",
   "execution_count": 4,
   "id": "a86c1039",
   "metadata": {},
   "outputs": [
    {
     "name": "stdout",
     "output_type": "stream",
     "text": [
      "Note: you may need to restart the kernel to use updated packages.\n"
     ]
    }
   ],
   "source": [
    "%pip install boto3 --quiet"
   ]
  },
  {
   "cell_type": "code",
   "execution_count": 5,
   "id": "686b1d1f-1178-4a34-9ba2-9db6d8f2e4d9",
   "metadata": {},
   "outputs": [
    {
     "name": "stdout",
     "output_type": "stream",
     "text": [
      "Note: you may need to restart the kernel to use updated packages.\n"
     ]
    }
   ],
   "source": [
    "pip install -qU langchain-openai"
   ]
  },
  {
   "cell_type": "code",
   "execution_count": 6,
   "id": "f924763a-ba88-4235-a729-021cdc0329c0",
   "metadata": {},
   "outputs": [
    {
     "name": "stdout",
     "output_type": "stream",
     "text": [
      "Collecting amazon-textract-caller\n",
      "  Downloading amazon_textract_caller-0.2.4-py2.py3-none-any.whl.metadata (7.2 kB)\n",
      "Requirement already satisfied: boto3>=1.26.35 in /opt/miniconda3/envs/rag_pipeline/lib/python3.9/site-packages (from amazon-textract-caller) (1.35.84)\n",
      "Requirement already satisfied: botocore in /opt/miniconda3/envs/rag_pipeline/lib/python3.9/site-packages (from amazon-textract-caller) (1.35.84)\n",
      "Collecting amazon-textract-response-parser>=0.1.39 (from amazon-textract-caller)\n",
      "  Downloading amazon_textract_response_parser-1.0.3-py2.py3-none-any.whl.metadata (11 kB)\n",
      "Requirement already satisfied: marshmallow<4,>=3.14 in /opt/miniconda3/envs/rag_pipeline/lib/python3.9/site-packages (from amazon-textract-response-parser>=0.1.39->amazon-textract-caller) (3.23.1)\n",
      "Requirement already satisfied: jmespath<2.0.0,>=0.7.1 in /opt/miniconda3/envs/rag_pipeline/lib/python3.9/site-packages (from boto3>=1.26.35->amazon-textract-caller) (1.0.1)\n",
      "Requirement already satisfied: s3transfer<0.11.0,>=0.10.0 in /opt/miniconda3/envs/rag_pipeline/lib/python3.9/site-packages (from boto3>=1.26.35->amazon-textract-caller) (0.10.4)\n",
      "Requirement already satisfied: python-dateutil<3.0.0,>=2.1 in /opt/miniconda3/envs/rag_pipeline/lib/python3.9/site-packages (from botocore->amazon-textract-caller) (2.9.0.post0)\n",
      "Requirement already satisfied: urllib3<1.27,>=1.25.4 in /opt/miniconda3/envs/rag_pipeline/lib/python3.9/site-packages (from botocore->amazon-textract-caller) (1.26.20)\n",
      "Requirement already satisfied: packaging>=17.0 in /opt/miniconda3/envs/rag_pipeline/lib/python3.9/site-packages (from marshmallow<4,>=3.14->amazon-textract-response-parser>=0.1.39->amazon-textract-caller) (24.2)\n",
      "Requirement already satisfied: six>=1.5 in /opt/miniconda3/envs/rag_pipeline/lib/python3.9/site-packages (from python-dateutil<3.0.0,>=2.1->botocore->amazon-textract-caller) (1.17.0)\n",
      "Downloading amazon_textract_caller-0.2.4-py2.py3-none-any.whl (13 kB)\n",
      "Downloading amazon_textract_response_parser-1.0.3-py2.py3-none-any.whl (30 kB)\n",
      "Installing collected packages: amazon-textract-response-parser, amazon-textract-caller\n",
      "Successfully installed amazon-textract-caller-0.2.4 amazon-textract-response-parser-1.0.3\n",
      "Note: you may need to restart the kernel to use updated packages.\n"
     ]
    }
   ],
   "source": [
    "pip install amazon-textract-caller"
   ]
  },
  {
   "cell_type": "code",
   "execution_count": 7,
   "id": "1bd88255-de17-44ca-9130-cc3053281524",
   "metadata": {},
   "outputs": [
    {
     "name": "stdout",
     "output_type": "stream",
     "text": [
      "Collecting amazon-textract-textractor\n",
      "  Downloading amazon_textract_textractor-1.8.5-py3-none-any.whl.metadata (9.7 kB)\n",
      "Requirement already satisfied: Pillow in /opt/miniconda3/envs/rag_pipeline/lib/python3.9/site-packages (from amazon-textract-textractor) (11.0.0)\n",
      "Requirement already satisfied: XlsxWriter<4,>=3.0 in /opt/miniconda3/envs/rag_pipeline/lib/python3.9/site-packages (from amazon-textract-textractor) (3.2.0)\n",
      "Requirement already satisfied: amazon-textract-caller<1,>=0.2.4 in /opt/miniconda3/envs/rag_pipeline/lib/python3.9/site-packages (from amazon-textract-textractor) (0.2.4)\n",
      "Collecting editdistance<0.9,>=0.6.2 (from amazon-textract-textractor)\n",
      "  Downloading editdistance-0.8.1-cp39-cp39-macosx_11_0_arm64.whl.metadata (3.9 kB)\n",
      "Requirement already satisfied: tabulate<0.10,>=0.9 in /opt/miniconda3/envs/rag_pipeline/lib/python3.9/site-packages (from amazon-textract-textractor) (0.9.0)\n",
      "Requirement already satisfied: boto3>=1.26.35 in /opt/miniconda3/envs/rag_pipeline/lib/python3.9/site-packages (from amazon-textract-caller<1,>=0.2.4->amazon-textract-textractor) (1.35.84)\n",
      "Requirement already satisfied: botocore in /opt/miniconda3/envs/rag_pipeline/lib/python3.9/site-packages (from amazon-textract-caller<1,>=0.2.4->amazon-textract-textractor) (1.35.84)\n",
      "Requirement already satisfied: amazon-textract-response-parser>=0.1.39 in /opt/miniconda3/envs/rag_pipeline/lib/python3.9/site-packages (from amazon-textract-caller<1,>=0.2.4->amazon-textract-textractor) (1.0.3)\n",
      "Requirement already satisfied: marshmallow<4,>=3.14 in /opt/miniconda3/envs/rag_pipeline/lib/python3.9/site-packages (from amazon-textract-response-parser>=0.1.39->amazon-textract-caller<1,>=0.2.4->amazon-textract-textractor) (3.23.1)\n",
      "Requirement already satisfied: jmespath<2.0.0,>=0.7.1 in /opt/miniconda3/envs/rag_pipeline/lib/python3.9/site-packages (from boto3>=1.26.35->amazon-textract-caller<1,>=0.2.4->amazon-textract-textractor) (1.0.1)\n",
      "Requirement already satisfied: s3transfer<0.11.0,>=0.10.0 in /opt/miniconda3/envs/rag_pipeline/lib/python3.9/site-packages (from boto3>=1.26.35->amazon-textract-caller<1,>=0.2.4->amazon-textract-textractor) (0.10.4)\n",
      "Requirement already satisfied: python-dateutil<3.0.0,>=2.1 in /opt/miniconda3/envs/rag_pipeline/lib/python3.9/site-packages (from botocore->amazon-textract-caller<1,>=0.2.4->amazon-textract-textractor) (2.9.0.post0)\n",
      "Requirement already satisfied: urllib3<1.27,>=1.25.4 in /opt/miniconda3/envs/rag_pipeline/lib/python3.9/site-packages (from botocore->amazon-textract-caller<1,>=0.2.4->amazon-textract-textractor) (1.26.20)\n",
      "Requirement already satisfied: packaging>=17.0 in /opt/miniconda3/envs/rag_pipeline/lib/python3.9/site-packages (from marshmallow<4,>=3.14->amazon-textract-response-parser>=0.1.39->amazon-textract-caller<1,>=0.2.4->amazon-textract-textractor) (24.2)\n",
      "Requirement already satisfied: six>=1.5 in /opt/miniconda3/envs/rag_pipeline/lib/python3.9/site-packages (from python-dateutil<3.0.0,>=2.1->botocore->amazon-textract-caller<1,>=0.2.4->amazon-textract-textractor) (1.17.0)\n",
      "Downloading amazon_textract_textractor-1.8.5-py3-none-any.whl (309 kB)\n",
      "Downloading editdistance-0.8.1-cp39-cp39-macosx_11_0_arm64.whl (79 kB)\n",
      "Installing collected packages: editdistance, amazon-textract-textractor\n",
      "Successfully installed amazon-textract-textractor-1.8.5 editdistance-0.8.1\n",
      "Note: you may need to restart the kernel to use updated packages.\n"
     ]
    }
   ],
   "source": [
    "pip install amazon-textract-textractor"
   ]
  },
  {
   "cell_type": "code",
   "execution_count": 8,
   "id": "34c681c0-6c40-48b4-a24f-5d7364f5e084",
   "metadata": {},
   "outputs": [
    {
     "name": "stdout",
     "output_type": "stream",
     "text": [
      "Note: you may need to restart the kernel to use updated packages.\n"
     ]
    }
   ],
   "source": [
    "pip install -qU langchain-pinecone"
   ]
  },
  {
   "cell_type": "code",
   "execution_count": 9,
   "id": "16a990d4-85ab-42a9-a75a-7ed3841a09ff",
   "metadata": {},
   "outputs": [
    {
     "name": "stdout",
     "output_type": "stream",
     "text": [
      "Requirement already satisfied: python-dotenv in /opt/miniconda3/envs/rag_pipeline/lib/python3.9/site-packages (1.0.1)\n"
     ]
    }
   ],
   "source": [
    "!pip install python-dotenv"
   ]
  },
  {
   "cell_type": "code",
   "execution_count": 10,
   "id": "f056a8d1-0e1c-43b6-92ec-89c9a5bf5334",
   "metadata": {},
   "outputs": [
    {
     "name": "stdout",
     "output_type": "stream",
     "text": [
      "Note: you may need to restart the kernel to use updated packages.\n"
     ]
    }
   ],
   "source": [
    "pip install -qU langchain-huggingface"
   ]
  },
  {
   "cell_type": "code",
   "execution_count": 11,
   "id": "707a4553-99f9-4abe-bea5-660361b31d49",
   "metadata": {},
   "outputs": [
    {
     "name": "stdout",
     "output_type": "stream",
     "text": [
      "Note: you may need to restart the kernel to use updated packages.\n"
     ]
    }
   ],
   "source": [
    "%pip install -qU pypdf"
   ]
  },
  {
   "cell_type": "code",
   "execution_count": 12,
   "id": "09ef8785-732c-4e93-8ca0-53c943178f32",
   "metadata": {},
   "outputs": [
    {
     "name": "stdout",
     "output_type": "stream",
     "text": [
      "Note: you may need to restart the kernel to use updated packages.\n"
     ]
    }
   ],
   "source": [
    "%pip install -qU langchain-unstructured"
   ]
  },
  {
   "cell_type": "code",
   "execution_count": 13,
   "id": "f30bef11-98ce-4e57-9a92-b5c9f6c23816",
   "metadata": {},
   "outputs": [
    {
     "name": "stdout",
     "output_type": "stream",
     "text": [
      "Note: you may need to restart the kernel to use updated packages.\n"
     ]
    }
   ],
   "source": [
    "%pip install --upgrade --quiet langchain-unstructured unstructured-client unstructured \"unstructured[pdf]\" python-magic"
   ]
  },
  {
   "cell_type": "code",
   "execution_count": 14,
   "id": "ec49f3d8-69a1-442c-a8b6-57399d4b7a57",
   "metadata": {},
   "outputs": [
    {
     "name": "stdout",
     "output_type": "stream",
     "text": [
      "Requirement already satisfied: langchain-unstructured[local] in /opt/miniconda3/envs/rag_pipeline/lib/python3.9/site-packages (0.1.6)\n",
      "Requirement already satisfied: langchain-core<0.4.0,>=0.3.6 in /opt/miniconda3/envs/rag_pipeline/lib/python3.9/site-packages (from langchain-unstructured[local]) (0.3.27)\n",
      "Requirement already satisfied: onnxruntime<=1.19.2,>=1.17.0 in /opt/miniconda3/envs/rag_pipeline/lib/python3.9/site-packages (from langchain-unstructured[local]) (1.19.2)\n",
      "Requirement already satisfied: unstructured-client<1,>=0.27.0 in /opt/miniconda3/envs/rag_pipeline/lib/python3.9/site-packages (from langchain-unstructured[local]) (0.28.1)\n",
      "Collecting unstructured<0.16.0,>=0.15.7 (from unstructured[all-docs]<0.16.0,>=0.15.7; python_version < \"3.13\" and extra == \"local\"->langchain-unstructured[local])\n",
      "  Using cached unstructured-0.15.14-py3-none-any.whl.metadata (29 kB)\n",
      "Requirement already satisfied: PyYAML>=5.3 in /opt/miniconda3/envs/rag_pipeline/lib/python3.9/site-packages (from langchain-core<0.4.0,>=0.3.6->langchain-unstructured[local]) (6.0.2)\n",
      "Requirement already satisfied: jsonpatch<2.0,>=1.33 in /opt/miniconda3/envs/rag_pipeline/lib/python3.9/site-packages (from langchain-core<0.4.0,>=0.3.6->langchain-unstructured[local]) (1.33)\n",
      "Requirement already satisfied: langsmith<0.3,>=0.1.125 in /opt/miniconda3/envs/rag_pipeline/lib/python3.9/site-packages (from langchain-core<0.4.0,>=0.3.6->langchain-unstructured[local]) (0.2.3)\n",
      "Requirement already satisfied: packaging<25,>=23.2 in /opt/miniconda3/envs/rag_pipeline/lib/python3.9/site-packages (from langchain-core<0.4.0,>=0.3.6->langchain-unstructured[local]) (24.2)\n",
      "Requirement already satisfied: pydantic<3.0.0,>=2.5.2 in /opt/miniconda3/envs/rag_pipeline/lib/python3.9/site-packages (from langchain-core<0.4.0,>=0.3.6->langchain-unstructured[local]) (2.9.2)\n",
      "Requirement already satisfied: tenacity!=8.4.0,<10.0.0,>=8.1.0 in /opt/miniconda3/envs/rag_pipeline/lib/python3.9/site-packages (from langchain-core<0.4.0,>=0.3.6->langchain-unstructured[local]) (9.0.0)\n",
      "Requirement already satisfied: typing-extensions>=4.7 in /opt/miniconda3/envs/rag_pipeline/lib/python3.9/site-packages (from langchain-core<0.4.0,>=0.3.6->langchain-unstructured[local]) (4.12.2)\n",
      "Requirement already satisfied: coloredlogs in /opt/miniconda3/envs/rag_pipeline/lib/python3.9/site-packages (from onnxruntime<=1.19.2,>=1.17.0->langchain-unstructured[local]) (15.0.1)\n",
      "Requirement already satisfied: flatbuffers in /opt/miniconda3/envs/rag_pipeline/lib/python3.9/site-packages (from onnxruntime<=1.19.2,>=1.17.0->langchain-unstructured[local]) (24.3.25)\n",
      "Requirement already satisfied: numpy>=1.21.6 in /opt/miniconda3/envs/rag_pipeline/lib/python3.9/site-packages (from onnxruntime<=1.19.2,>=1.17.0->langchain-unstructured[local]) (1.26.4)\n",
      "Requirement already satisfied: protobuf in /opt/miniconda3/envs/rag_pipeline/lib/python3.9/site-packages (from onnxruntime<=1.19.2,>=1.17.0->langchain-unstructured[local]) (5.29.1)\n",
      "Requirement already satisfied: sympy in /opt/miniconda3/envs/rag_pipeline/lib/python3.9/site-packages (from onnxruntime<=1.19.2,>=1.17.0->langchain-unstructured[local]) (1.13.1)\n",
      "Requirement already satisfied: chardet in /opt/miniconda3/envs/rag_pipeline/lib/python3.9/site-packages (from unstructured<0.16.0,>=0.15.7->unstructured[all-docs]<0.16.0,>=0.15.7; python_version < \"3.13\" and extra == \"local\"->langchain-unstructured[local]) (5.2.0)\n",
      "Requirement already satisfied: filetype in /opt/miniconda3/envs/rag_pipeline/lib/python3.9/site-packages (from unstructured<0.16.0,>=0.15.7->unstructured[all-docs]<0.16.0,>=0.15.7; python_version < \"3.13\" and extra == \"local\"->langchain-unstructured[local]) (1.2.0)\n",
      "Requirement already satisfied: python-magic in /opt/miniconda3/envs/rag_pipeline/lib/python3.9/site-packages (from unstructured<0.16.0,>=0.15.7->unstructured[all-docs]<0.16.0,>=0.15.7; python_version < \"3.13\" and extra == \"local\"->langchain-unstructured[local]) (0.4.27)\n",
      "Requirement already satisfied: lxml in /opt/miniconda3/envs/rag_pipeline/lib/python3.9/site-packages (from unstructured<0.16.0,>=0.15.7->unstructured[all-docs]<0.16.0,>=0.15.7; python_version < \"3.13\" and extra == \"local\"->langchain-unstructured[local]) (5.3.0)\n",
      "Requirement already satisfied: nltk in /opt/miniconda3/envs/rag_pipeline/lib/python3.9/site-packages (from unstructured<0.16.0,>=0.15.7->unstructured[all-docs]<0.16.0,>=0.15.7; python_version < \"3.13\" and extra == \"local\"->langchain-unstructured[local]) (3.9.1)\n",
      "Requirement already satisfied: tabulate in /opt/miniconda3/envs/rag_pipeline/lib/python3.9/site-packages (from unstructured<0.16.0,>=0.15.7->unstructured[all-docs]<0.16.0,>=0.15.7; python_version < \"3.13\" and extra == \"local\"->langchain-unstructured[local]) (0.9.0)\n",
      "Requirement already satisfied: requests in /opt/miniconda3/envs/rag_pipeline/lib/python3.9/site-packages (from unstructured<0.16.0,>=0.15.7->unstructured[all-docs]<0.16.0,>=0.15.7; python_version < \"3.13\" and extra == \"local\"->langchain-unstructured[local]) (2.32.3)\n",
      "Requirement already satisfied: beautifulsoup4 in /opt/miniconda3/envs/rag_pipeline/lib/python3.9/site-packages (from unstructured<0.16.0,>=0.15.7->unstructured[all-docs]<0.16.0,>=0.15.7; python_version < \"3.13\" and extra == \"local\"->langchain-unstructured[local]) (4.12.3)\n",
      "Requirement already satisfied: emoji in /opt/miniconda3/envs/rag_pipeline/lib/python3.9/site-packages (from unstructured<0.16.0,>=0.15.7->unstructured[all-docs]<0.16.0,>=0.15.7; python_version < \"3.13\" and extra == \"local\"->langchain-unstructured[local]) (2.14.0)\n",
      "Requirement already satisfied: dataclasses-json in /opt/miniconda3/envs/rag_pipeline/lib/python3.9/site-packages (from unstructured<0.16.0,>=0.15.7->unstructured[all-docs]<0.16.0,>=0.15.7; python_version < \"3.13\" and extra == \"local\"->langchain-unstructured[local]) (0.6.7)\n",
      "Requirement already satisfied: python-iso639 in /opt/miniconda3/envs/rag_pipeline/lib/python3.9/site-packages (from unstructured<0.16.0,>=0.15.7->unstructured[all-docs]<0.16.0,>=0.15.7; python_version < \"3.13\" and extra == \"local\"->langchain-unstructured[local]) (2024.10.22)\n",
      "Requirement already satisfied: langdetect in /opt/miniconda3/envs/rag_pipeline/lib/python3.9/site-packages (from unstructured<0.16.0,>=0.15.7->unstructured[all-docs]<0.16.0,>=0.15.7; python_version < \"3.13\" and extra == \"local\"->langchain-unstructured[local]) (1.0.9)\n",
      "Requirement already satisfied: rapidfuzz in /opt/miniconda3/envs/rag_pipeline/lib/python3.9/site-packages (from unstructured<0.16.0,>=0.15.7->unstructured[all-docs]<0.16.0,>=0.15.7; python_version < \"3.13\" and extra == \"local\"->langchain-unstructured[local]) (3.11.0)\n",
      "Requirement already satisfied: backoff in /opt/miniconda3/envs/rag_pipeline/lib/python3.9/site-packages (from unstructured<0.16.0,>=0.15.7->unstructured[all-docs]<0.16.0,>=0.15.7; python_version < \"3.13\" and extra == \"local\"->langchain-unstructured[local]) (2.2.1)\n",
      "Requirement already satisfied: wrapt in /opt/miniconda3/envs/rag_pipeline/lib/python3.9/site-packages (from unstructured<0.16.0,>=0.15.7->unstructured[all-docs]<0.16.0,>=0.15.7; python_version < \"3.13\" and extra == \"local\"->langchain-unstructured[local]) (1.17.0)\n",
      "Requirement already satisfied: tqdm in /opt/miniconda3/envs/rag_pipeline/lib/python3.9/site-packages (from unstructured<0.16.0,>=0.15.7->unstructured[all-docs]<0.16.0,>=0.15.7; python_version < \"3.13\" and extra == \"local\"->langchain-unstructured[local]) (4.67.1)\n",
      "Requirement already satisfied: psutil in /opt/miniconda3/envs/rag_pipeline/lib/python3.9/site-packages (from unstructured<0.16.0,>=0.15.7->unstructured[all-docs]<0.16.0,>=0.15.7; python_version < \"3.13\" and extra == \"local\"->langchain-unstructured[local]) (6.1.0)\n",
      "Requirement already satisfied: python-oxmsg in /opt/miniconda3/envs/rag_pipeline/lib/python3.9/site-packages (from unstructured<0.16.0,>=0.15.7->unstructured[all-docs]<0.16.0,>=0.15.7; python_version < \"3.13\" and extra == \"local\"->langchain-unstructured[local]) (0.0.1)\n",
      "Requirement already satisfied: aiofiles>=24.1.0 in /opt/miniconda3/envs/rag_pipeline/lib/python3.9/site-packages (from unstructured-client<1,>=0.27.0->langchain-unstructured[local]) (24.1.0)\n",
      "Requirement already satisfied: cryptography>=3.1 in /opt/miniconda3/envs/rag_pipeline/lib/python3.9/site-packages (from unstructured-client<1,>=0.27.0->langchain-unstructured[local]) (44.0.0)\n",
      "Requirement already satisfied: eval-type-backport<0.3.0,>=0.2.0 in /opt/miniconda3/envs/rag_pipeline/lib/python3.9/site-packages (from unstructured-client<1,>=0.27.0->langchain-unstructured[local]) (0.2.0)\n",
      "Requirement already satisfied: httpx>=0.27.0 in /opt/miniconda3/envs/rag_pipeline/lib/python3.9/site-packages (from unstructured-client<1,>=0.27.0->langchain-unstructured[local]) (0.28.1)\n",
      "Requirement already satisfied: jsonpath-python<2.0.0,>=1.0.6 in /opt/miniconda3/envs/rag_pipeline/lib/python3.9/site-packages (from unstructured-client<1,>=0.27.0->langchain-unstructured[local]) (1.0.6)\n",
      "Requirement already satisfied: nest-asyncio>=1.6.0 in /opt/miniconda3/envs/rag_pipeline/lib/python3.9/site-packages (from unstructured-client<1,>=0.27.0->langchain-unstructured[local]) (1.6.0)\n",
      "Requirement already satisfied: pypdf>=4.0 in /opt/miniconda3/envs/rag_pipeline/lib/python3.9/site-packages (from unstructured-client<1,>=0.27.0->langchain-unstructured[local]) (5.1.0)\n",
      "Requirement already satisfied: python-dateutil<3.0.0,>=2.8.2 in /opt/miniconda3/envs/rag_pipeline/lib/python3.9/site-packages (from unstructured-client<1,>=0.27.0->langchain-unstructured[local]) (2.9.0.post0)\n",
      "Requirement already satisfied: requests-toolbelt>=1.0.0 in /opt/miniconda3/envs/rag_pipeline/lib/python3.9/site-packages (from unstructured-client<1,>=0.27.0->langchain-unstructured[local]) (1.0.0)\n",
      "Requirement already satisfied: typing-inspect<0.10.0,>=0.9.0 in /opt/miniconda3/envs/rag_pipeline/lib/python3.9/site-packages (from unstructured-client<1,>=0.27.0->langchain-unstructured[local]) (0.9.0)\n",
      "Requirement already satisfied: pdfminer.six in /opt/miniconda3/envs/rag_pipeline/lib/python3.9/site-packages (from unstructured[all-docs]<0.16.0,>=0.15.7; python_version < \"3.13\" and extra == \"local\"->langchain-unstructured[local]) (20231228)\n",
      "Requirement already satisfied: google-cloud-vision in /opt/miniconda3/envs/rag_pipeline/lib/python3.9/site-packages (from unstructured[all-docs]<0.16.0,>=0.15.7; python_version < \"3.13\" and extra == \"local\"->langchain-unstructured[local]) (3.9.0)\n",
      "Requirement already satisfied: networkx in /opt/miniconda3/envs/rag_pipeline/lib/python3.9/site-packages (from unstructured[all-docs]<0.16.0,>=0.15.7; python_version < \"3.13\" and extra == \"local\"->langchain-unstructured[local]) (3.2.1)\n",
      "Requirement already satisfied: pi-heif in /opt/miniconda3/envs/rag_pipeline/lib/python3.9/site-packages (from unstructured[all-docs]<0.16.0,>=0.15.7; python_version < \"3.13\" and extra == \"local\"->langchain-unstructured[local]) (0.21.0)\n",
      "Requirement already satisfied: pdf2image in /opt/miniconda3/envs/rag_pipeline/lib/python3.9/site-packages (from unstructured[all-docs]<0.16.0,>=0.15.7; python_version < \"3.13\" and extra == \"local\"->langchain-unstructured[local]) (1.17.0)\n",
      "Requirement already satisfied: onnx in /opt/miniconda3/envs/rag_pipeline/lib/python3.9/site-packages (from unstructured[all-docs]<0.16.0,>=0.15.7; python_version < \"3.13\" and extra == \"local\"->langchain-unstructured[local]) (1.17.0)\n",
      "Requirement already satisfied: python-pptx>=1.0.1 in /opt/miniconda3/envs/rag_pipeline/lib/python3.9/site-packages (from unstructured[all-docs]<0.16.0,>=0.15.7; python_version < \"3.13\" and extra == \"local\"->langchain-unstructured[local]) (1.0.2)\n",
      "Requirement already satisfied: python-docx>=1.1.2 in /opt/miniconda3/envs/rag_pipeline/lib/python3.9/site-packages (from unstructured[all-docs]<0.16.0,>=0.15.7; python_version < \"3.13\" and extra == \"local\"->langchain-unstructured[local]) (1.1.2)\n",
      "Requirement already satisfied: effdet in /opt/miniconda3/envs/rag_pipeline/lib/python3.9/site-packages (from unstructured[all-docs]<0.16.0,>=0.15.7; python_version < \"3.13\" and extra == \"local\"->langchain-unstructured[local]) (0.4.1)\n",
      "Requirement already satisfied: markdown in /opt/miniconda3/envs/rag_pipeline/lib/python3.9/site-packages (from unstructured[all-docs]<0.16.0,>=0.15.7; python_version < \"3.13\" and extra == \"local\"->langchain-unstructured[local]) (3.7)\n",
      "Requirement already satisfied: pikepdf in /opt/miniconda3/envs/rag_pipeline/lib/python3.9/site-packages (from unstructured[all-docs]<0.16.0,>=0.15.7; python_version < \"3.13\" and extra == \"local\"->langchain-unstructured[local]) (9.4.2)\n",
      "Collecting unstructured-inference==0.7.36 (from unstructured[all-docs]<0.16.0,>=0.15.7; python_version < \"3.13\" and extra == \"local\"->langchain-unstructured[local])\n",
      "  Using cached unstructured_inference-0.7.36-py3-none-any.whl.metadata (5.9 kB)\n",
      "Requirement already satisfied: unstructured.pytesseract>=0.3.12 in /opt/miniconda3/envs/rag_pipeline/lib/python3.9/site-packages (from unstructured[all-docs]<0.16.0,>=0.15.7; python_version < \"3.13\" and extra == \"local\"->langchain-unstructured[local]) (0.3.13)\n",
      "Requirement already satisfied: openpyxl in /opt/miniconda3/envs/rag_pipeline/lib/python3.9/site-packages (from unstructured[all-docs]<0.16.0,>=0.15.7; python_version < \"3.13\" and extra == \"local\"->langchain-unstructured[local]) (3.1.5)\n",
      "Requirement already satisfied: pypandoc in /opt/miniconda3/envs/rag_pipeline/lib/python3.9/site-packages (from unstructured[all-docs]<0.16.0,>=0.15.7; python_version < \"3.13\" and extra == \"local\"->langchain-unstructured[local]) (1.14)\n",
      "Requirement already satisfied: pandas in /opt/miniconda3/envs/rag_pipeline/lib/python3.9/site-packages (from unstructured[all-docs]<0.16.0,>=0.15.7; python_version < \"3.13\" and extra == \"local\"->langchain-unstructured[local]) (2.2.3)\n",
      "Requirement already satisfied: xlrd in /opt/miniconda3/envs/rag_pipeline/lib/python3.9/site-packages (from unstructured[all-docs]<0.16.0,>=0.15.7; python_version < \"3.13\" and extra == \"local\"->langchain-unstructured[local]) (2.0.1)\n",
      "Requirement already satisfied: layoutparser in /opt/miniconda3/envs/rag_pipeline/lib/python3.9/site-packages (from unstructured-inference==0.7.36->unstructured[all-docs]<0.16.0,>=0.15.7; python_version < \"3.13\" and extra == \"local\"->langchain-unstructured[local]) (0.3.4)\n",
      "Requirement already satisfied: python-multipart in /opt/miniconda3/envs/rag_pipeline/lib/python3.9/site-packages (from unstructured-inference==0.7.36->unstructured[all-docs]<0.16.0,>=0.15.7; python_version < \"3.13\" and extra == \"local\"->langchain-unstructured[local]) (0.0.20)\n",
      "Requirement already satisfied: huggingface-hub in /opt/miniconda3/envs/rag_pipeline/lib/python3.9/site-packages (from unstructured-inference==0.7.36->unstructured[all-docs]<0.16.0,>=0.15.7; python_version < \"3.13\" and extra == \"local\"->langchain-unstructured[local]) (0.27.0)\n",
      "Requirement already satisfied: opencv-python!=4.7.0.68 in /opt/miniconda3/envs/rag_pipeline/lib/python3.9/site-packages (from unstructured-inference==0.7.36->unstructured[all-docs]<0.16.0,>=0.15.7; python_version < \"3.13\" and extra == \"local\"->langchain-unstructured[local]) (4.10.0.84)\n",
      "Requirement already satisfied: matplotlib in /opt/miniconda3/envs/rag_pipeline/lib/python3.9/site-packages (from unstructured-inference==0.7.36->unstructured[all-docs]<0.16.0,>=0.15.7; python_version < \"3.13\" and extra == \"local\"->langchain-unstructured[local]) (3.9.4)\n",
      "Requirement already satisfied: torch in /opt/miniconda3/envs/rag_pipeline/lib/python3.9/site-packages (from unstructured-inference==0.7.36->unstructured[all-docs]<0.16.0,>=0.15.7; python_version < \"3.13\" and extra == \"local\"->langchain-unstructured[local]) (2.5.1)\n",
      "Requirement already satisfied: timm in /opt/miniconda3/envs/rag_pipeline/lib/python3.9/site-packages (from unstructured-inference==0.7.36->unstructured[all-docs]<0.16.0,>=0.15.7; python_version < \"3.13\" and extra == \"local\"->langchain-unstructured[local]) (1.0.12)\n",
      "Requirement already satisfied: transformers>=4.25.1 in /opt/miniconda3/envs/rag_pipeline/lib/python3.9/site-packages (from unstructured-inference==0.7.36->unstructured[all-docs]<0.16.0,>=0.15.7; python_version < \"3.13\" and extra == \"local\"->langchain-unstructured[local]) (4.47.1)\n",
      "Requirement already satisfied: cffi>=1.12 in /opt/miniconda3/envs/rag_pipeline/lib/python3.9/site-packages (from cryptography>=3.1->unstructured-client<1,>=0.27.0->langchain-unstructured[local]) (1.17.1)\n",
      "Requirement already satisfied: anyio in /opt/miniconda3/envs/rag_pipeline/lib/python3.9/site-packages (from httpx>=0.27.0->unstructured-client<1,>=0.27.0->langchain-unstructured[local]) (4.7.0)\n",
      "Requirement already satisfied: certifi in /opt/miniconda3/envs/rag_pipeline/lib/python3.9/site-packages (from httpx>=0.27.0->unstructured-client<1,>=0.27.0->langchain-unstructured[local]) (2024.12.14)\n",
      "Requirement already satisfied: httpcore==1.* in /opt/miniconda3/envs/rag_pipeline/lib/python3.9/site-packages (from httpx>=0.27.0->unstructured-client<1,>=0.27.0->langchain-unstructured[local]) (1.0.7)\n",
      "Requirement already satisfied: idna in /opt/miniconda3/envs/rag_pipeline/lib/python3.9/site-packages (from httpx>=0.27.0->unstructured-client<1,>=0.27.0->langchain-unstructured[local]) (3.10)\n",
      "Requirement already satisfied: h11<0.15,>=0.13 in /opt/miniconda3/envs/rag_pipeline/lib/python3.9/site-packages (from httpcore==1.*->httpx>=0.27.0->unstructured-client<1,>=0.27.0->langchain-unstructured[local]) (0.14.0)\n",
      "Requirement already satisfied: jsonpointer>=1.9 in /opt/miniconda3/envs/rag_pipeline/lib/python3.9/site-packages (from jsonpatch<2.0,>=1.33->langchain-core<0.4.0,>=0.3.6->langchain-unstructured[local]) (3.0.0)\n",
      "Requirement already satisfied: orjson<4.0.0,>=3.9.14 in /opt/miniconda3/envs/rag_pipeline/lib/python3.9/site-packages (from langsmith<0.3,>=0.1.125->langchain-core<0.4.0,>=0.3.6->langchain-unstructured[local]) (3.10.12)\n",
      "Requirement already satisfied: annotated-types>=0.6.0 in /opt/miniconda3/envs/rag_pipeline/lib/python3.9/site-packages (from pydantic<3.0.0,>=2.5.2->langchain-core<0.4.0,>=0.3.6->langchain-unstructured[local]) (0.7.0)\n",
      "Requirement already satisfied: pydantic-core==2.23.4 in /opt/miniconda3/envs/rag_pipeline/lib/python3.9/site-packages (from pydantic<3.0.0,>=2.5.2->langchain-core<0.4.0,>=0.3.6->langchain-unstructured[local]) (2.23.4)\n",
      "Requirement already satisfied: six>=1.5 in /opt/miniconda3/envs/rag_pipeline/lib/python3.9/site-packages (from python-dateutil<3.0.0,>=2.8.2->unstructured-client<1,>=0.27.0->langchain-unstructured[local]) (1.17.0)\n",
      "Requirement already satisfied: Pillow>=3.3.2 in /opt/miniconda3/envs/rag_pipeline/lib/python3.9/site-packages (from python-pptx>=1.0.1->unstructured[all-docs]<0.16.0,>=0.15.7; python_version < \"3.13\" and extra == \"local\"->langchain-unstructured[local]) (11.0.0)\n",
      "Requirement already satisfied: XlsxWriter>=0.5.7 in /opt/miniconda3/envs/rag_pipeline/lib/python3.9/site-packages (from python-pptx>=1.0.1->unstructured[all-docs]<0.16.0,>=0.15.7; python_version < \"3.13\" and extra == \"local\"->langchain-unstructured[local]) (3.2.0)\n",
      "Requirement already satisfied: charset-normalizer<4,>=2 in /opt/miniconda3/envs/rag_pipeline/lib/python3.9/site-packages (from requests->unstructured<0.16.0,>=0.15.7->unstructured[all-docs]<0.16.0,>=0.15.7; python_version < \"3.13\" and extra == \"local\"->langchain-unstructured[local]) (3.4.0)\n",
      "Requirement already satisfied: urllib3<3,>=1.21.1 in /opt/miniconda3/envs/rag_pipeline/lib/python3.9/site-packages (from requests->unstructured<0.16.0,>=0.15.7->unstructured[all-docs]<0.16.0,>=0.15.7; python_version < \"3.13\" and extra == \"local\"->langchain-unstructured[local]) (1.26.20)\n",
      "Requirement already satisfied: mypy-extensions>=0.3.0 in /opt/miniconda3/envs/rag_pipeline/lib/python3.9/site-packages (from typing-inspect<0.10.0,>=0.9.0->unstructured-client<1,>=0.27.0->langchain-unstructured[local]) (1.0.0)\n",
      "Requirement already satisfied: soupsieve>1.2 in /opt/miniconda3/envs/rag_pipeline/lib/python3.9/site-packages (from beautifulsoup4->unstructured<0.16.0,>=0.15.7->unstructured[all-docs]<0.16.0,>=0.15.7; python_version < \"3.13\" and extra == \"local\"->langchain-unstructured[local]) (2.6)\n",
      "Requirement already satisfied: humanfriendly>=9.1 in /opt/miniconda3/envs/rag_pipeline/lib/python3.9/site-packages (from coloredlogs->onnxruntime<=1.19.2,>=1.17.0->langchain-unstructured[local]) (10.0)\n",
      "Requirement already satisfied: marshmallow<4.0.0,>=3.18.0 in /opt/miniconda3/envs/rag_pipeline/lib/python3.9/site-packages (from dataclasses-json->unstructured<0.16.0,>=0.15.7->unstructured[all-docs]<0.16.0,>=0.15.7; python_version < \"3.13\" and extra == \"local\"->langchain-unstructured[local]) (3.23.1)\n",
      "Requirement already satisfied: torchvision in /opt/miniconda3/envs/rag_pipeline/lib/python3.9/site-packages (from effdet->unstructured[all-docs]<0.16.0,>=0.15.7; python_version < \"3.13\" and extra == \"local\"->langchain-unstructured[local]) (0.20.1)\n",
      "Requirement already satisfied: pycocotools>=2.0.2 in /opt/miniconda3/envs/rag_pipeline/lib/python3.9/site-packages (from effdet->unstructured[all-docs]<0.16.0,>=0.15.7; python_version < \"3.13\" and extra == \"local\"->langchain-unstructured[local]) (2.0.8)\n",
      "Requirement already satisfied: omegaconf>=2.0 in /opt/miniconda3/envs/rag_pipeline/lib/python3.9/site-packages (from effdet->unstructured[all-docs]<0.16.0,>=0.15.7; python_version < \"3.13\" and extra == \"local\"->langchain-unstructured[local]) (2.3.0)\n",
      "Requirement already satisfied: google-api-core!=2.0.*,!=2.1.*,!=2.10.*,!=2.2.*,!=2.3.*,!=2.4.*,!=2.5.*,!=2.6.*,!=2.7.*,!=2.8.*,!=2.9.*,<3.0.0dev,>=1.34.1 in /opt/miniconda3/envs/rag_pipeline/lib/python3.9/site-packages (from google-api-core[grpc]!=2.0.*,!=2.1.*,!=2.10.*,!=2.2.*,!=2.3.*,!=2.4.*,!=2.5.*,!=2.6.*,!=2.7.*,!=2.8.*,!=2.9.*,<3.0.0dev,>=1.34.1->google-cloud-vision->unstructured[all-docs]<0.16.0,>=0.15.7; python_version < \"3.13\" and extra == \"local\"->langchain-unstructured[local]) (2.24.0)\n",
      "Requirement already satisfied: google-auth!=2.24.0,!=2.25.0,<3.0.0dev,>=2.14.1 in /opt/miniconda3/envs/rag_pipeline/lib/python3.9/site-packages (from google-cloud-vision->unstructured[all-docs]<0.16.0,>=0.15.7; python_version < \"3.13\" and extra == \"local\"->langchain-unstructured[local]) (2.37.0)\n",
      "Requirement already satisfied: proto-plus<2.0.0dev,>=1.22.3 in /opt/miniconda3/envs/rag_pipeline/lib/python3.9/site-packages (from google-cloud-vision->unstructured[all-docs]<0.16.0,>=0.15.7; python_version < \"3.13\" and extra == \"local\"->langchain-unstructured[local]) (1.25.0)\n",
      "Requirement already satisfied: importlib-metadata>=4.4 in /opt/miniconda3/envs/rag_pipeline/lib/python3.9/site-packages (from markdown->unstructured[all-docs]<0.16.0,>=0.15.7; python_version < \"3.13\" and extra == \"local\"->langchain-unstructured[local]) (8.5.0)\n",
      "Requirement already satisfied: click in /opt/miniconda3/envs/rag_pipeline/lib/python3.9/site-packages (from nltk->unstructured<0.16.0,>=0.15.7->unstructured[all-docs]<0.16.0,>=0.15.7; python_version < \"3.13\" and extra == \"local\"->langchain-unstructured[local]) (8.1.7)\n",
      "Requirement already satisfied: joblib in /opt/miniconda3/envs/rag_pipeline/lib/python3.9/site-packages (from nltk->unstructured<0.16.0,>=0.15.7->unstructured[all-docs]<0.16.0,>=0.15.7; python_version < \"3.13\" and extra == \"local\"->langchain-unstructured[local]) (1.4.2)\n",
      "Requirement already satisfied: regex>=2021.8.3 in /opt/miniconda3/envs/rag_pipeline/lib/python3.9/site-packages (from nltk->unstructured<0.16.0,>=0.15.7->unstructured[all-docs]<0.16.0,>=0.15.7; python_version < \"3.13\" and extra == \"local\"->langchain-unstructured[local]) (2024.11.6)\n",
      "Requirement already satisfied: et-xmlfile in /opt/miniconda3/envs/rag_pipeline/lib/python3.9/site-packages (from openpyxl->unstructured[all-docs]<0.16.0,>=0.15.7; python_version < \"3.13\" and extra == \"local\"->langchain-unstructured[local]) (2.0.0)\n",
      "Requirement already satisfied: pytz>=2020.1 in /opt/miniconda3/envs/rag_pipeline/lib/python3.9/site-packages (from pandas->unstructured[all-docs]<0.16.0,>=0.15.7; python_version < \"3.13\" and extra == \"local\"->langchain-unstructured[local]) (2024.2)\n",
      "Requirement already satisfied: tzdata>=2022.7 in /opt/miniconda3/envs/rag_pipeline/lib/python3.9/site-packages (from pandas->unstructured[all-docs]<0.16.0,>=0.15.7; python_version < \"3.13\" and extra == \"local\"->langchain-unstructured[local]) (2024.2)\n",
      "Requirement already satisfied: Deprecated in /opt/miniconda3/envs/rag_pipeline/lib/python3.9/site-packages (from pikepdf->unstructured[all-docs]<0.16.0,>=0.15.7; python_version < \"3.13\" and extra == \"local\"->langchain-unstructured[local]) (1.2.15)\n",
      "Requirement already satisfied: olefile in /opt/miniconda3/envs/rag_pipeline/lib/python3.9/site-packages (from python-oxmsg->unstructured<0.16.0,>=0.15.7->unstructured[all-docs]<0.16.0,>=0.15.7; python_version < \"3.13\" and extra == \"local\"->langchain-unstructured[local]) (0.47)\n",
      "Requirement already satisfied: mpmath<1.4,>=1.1.0 in /opt/miniconda3/envs/rag_pipeline/lib/python3.9/site-packages (from sympy->onnxruntime<=1.19.2,>=1.17.0->langchain-unstructured[local]) (1.3.0)\n",
      "Requirement already satisfied: pycparser in /opt/miniconda3/envs/rag_pipeline/lib/python3.9/site-packages (from cffi>=1.12->cryptography>=3.1->unstructured-client<1,>=0.27.0->langchain-unstructured[local]) (2.22)\n",
      "Requirement already satisfied: googleapis-common-protos<2.0.dev0,>=1.56.2 in /opt/miniconda3/envs/rag_pipeline/lib/python3.9/site-packages (from google-api-core!=2.0.*,!=2.1.*,!=2.10.*,!=2.2.*,!=2.3.*,!=2.4.*,!=2.5.*,!=2.6.*,!=2.7.*,!=2.8.*,!=2.9.*,<3.0.0dev,>=1.34.1->google-api-core[grpc]!=2.0.*,!=2.1.*,!=2.10.*,!=2.2.*,!=2.3.*,!=2.4.*,!=2.5.*,!=2.6.*,!=2.7.*,!=2.8.*,!=2.9.*,<3.0.0dev,>=1.34.1->google-cloud-vision->unstructured[all-docs]<0.16.0,>=0.15.7; python_version < \"3.13\" and extra == \"local\"->langchain-unstructured[local]) (1.66.0)\n",
      "Requirement already satisfied: grpcio<2.0dev,>=1.33.2 in /opt/miniconda3/envs/rag_pipeline/lib/python3.9/site-packages (from google-api-core[grpc]!=2.0.*,!=2.1.*,!=2.10.*,!=2.2.*,!=2.3.*,!=2.4.*,!=2.5.*,!=2.6.*,!=2.7.*,!=2.8.*,!=2.9.*,<3.0.0dev,>=1.34.1->google-cloud-vision->unstructured[all-docs]<0.16.0,>=0.15.7; python_version < \"3.13\" and extra == \"local\"->langchain-unstructured[local]) (1.68.1)\n",
      "Requirement already satisfied: grpcio-status<2.0.dev0,>=1.33.2 in /opt/miniconda3/envs/rag_pipeline/lib/python3.9/site-packages (from google-api-core[grpc]!=2.0.*,!=2.1.*,!=2.10.*,!=2.2.*,!=2.3.*,!=2.4.*,!=2.5.*,!=2.6.*,!=2.7.*,!=2.8.*,!=2.9.*,<3.0.0dev,>=1.34.1->google-cloud-vision->unstructured[all-docs]<0.16.0,>=0.15.7; python_version < \"3.13\" and extra == \"local\"->langchain-unstructured[local]) (1.68.1)\n",
      "Requirement already satisfied: cachetools<6.0,>=2.0.0 in /opt/miniconda3/envs/rag_pipeline/lib/python3.9/site-packages (from google-auth!=2.24.0,!=2.25.0,<3.0.0dev,>=2.14.1->google-cloud-vision->unstructured[all-docs]<0.16.0,>=0.15.7; python_version < \"3.13\" and extra == \"local\"->langchain-unstructured[local]) (5.5.0)\n",
      "Requirement already satisfied: pyasn1-modules>=0.2.1 in /opt/miniconda3/envs/rag_pipeline/lib/python3.9/site-packages (from google-auth!=2.24.0,!=2.25.0,<3.0.0dev,>=2.14.1->google-cloud-vision->unstructured[all-docs]<0.16.0,>=0.15.7; python_version < \"3.13\" and extra == \"local\"->langchain-unstructured[local]) (0.4.1)\n",
      "Requirement already satisfied: rsa<5,>=3.1.4 in /opt/miniconda3/envs/rag_pipeline/lib/python3.9/site-packages (from google-auth!=2.24.0,!=2.25.0,<3.0.0dev,>=2.14.1->google-cloud-vision->unstructured[all-docs]<0.16.0,>=0.15.7; python_version < \"3.13\" and extra == \"local\"->langchain-unstructured[local]) (4.9)\n",
      "Requirement already satisfied: zipp>=3.20 in /opt/miniconda3/envs/rag_pipeline/lib/python3.9/site-packages (from importlib-metadata>=4.4->markdown->unstructured[all-docs]<0.16.0,>=0.15.7; python_version < \"3.13\" and extra == \"local\"->langchain-unstructured[local]) (3.21.0)\n",
      "Requirement already satisfied: antlr4-python3-runtime==4.9.* in /opt/miniconda3/envs/rag_pipeline/lib/python3.9/site-packages (from omegaconf>=2.0->effdet->unstructured[all-docs]<0.16.0,>=0.15.7; python_version < \"3.13\" and extra == \"local\"->langchain-unstructured[local]) (4.9.3)\n",
      "Requirement already satisfied: contourpy>=1.0.1 in /opt/miniconda3/envs/rag_pipeline/lib/python3.9/site-packages (from matplotlib->unstructured-inference==0.7.36->unstructured[all-docs]<0.16.0,>=0.15.7; python_version < \"3.13\" and extra == \"local\"->langchain-unstructured[local]) (1.3.0)\n",
      "Requirement already satisfied: cycler>=0.10 in /opt/miniconda3/envs/rag_pipeline/lib/python3.9/site-packages (from matplotlib->unstructured-inference==0.7.36->unstructured[all-docs]<0.16.0,>=0.15.7; python_version < \"3.13\" and extra == \"local\"->langchain-unstructured[local]) (0.12.1)\n",
      "Requirement already satisfied: fonttools>=4.22.0 in /opt/miniconda3/envs/rag_pipeline/lib/python3.9/site-packages (from matplotlib->unstructured-inference==0.7.36->unstructured[all-docs]<0.16.0,>=0.15.7; python_version < \"3.13\" and extra == \"local\"->langchain-unstructured[local]) (4.55.3)\n",
      "Requirement already satisfied: kiwisolver>=1.3.1 in /opt/miniconda3/envs/rag_pipeline/lib/python3.9/site-packages (from matplotlib->unstructured-inference==0.7.36->unstructured[all-docs]<0.16.0,>=0.15.7; python_version < \"3.13\" and extra == \"local\"->langchain-unstructured[local]) (1.4.7)\n",
      "Requirement already satisfied: pyparsing>=2.3.1 in /opt/miniconda3/envs/rag_pipeline/lib/python3.9/site-packages (from matplotlib->unstructured-inference==0.7.36->unstructured[all-docs]<0.16.0,>=0.15.7; python_version < \"3.13\" and extra == \"local\"->langchain-unstructured[local]) (3.2.0)\n",
      "Requirement already satisfied: importlib-resources>=3.2.0 in /opt/miniconda3/envs/rag_pipeline/lib/python3.9/site-packages (from matplotlib->unstructured-inference==0.7.36->unstructured[all-docs]<0.16.0,>=0.15.7; python_version < \"3.13\" and extra == \"local\"->langchain-unstructured[local]) (6.4.5)\n",
      "Requirement already satisfied: safetensors in /opt/miniconda3/envs/rag_pipeline/lib/python3.9/site-packages (from timm->unstructured-inference==0.7.36->unstructured[all-docs]<0.16.0,>=0.15.7; python_version < \"3.13\" and extra == \"local\"->langchain-unstructured[local]) (0.4.5)\n",
      "Requirement already satisfied: filelock in /opt/miniconda3/envs/rag_pipeline/lib/python3.9/site-packages (from torch->unstructured-inference==0.7.36->unstructured[all-docs]<0.16.0,>=0.15.7; python_version < \"3.13\" and extra == \"local\"->langchain-unstructured[local]) (3.16.1)\n",
      "Requirement already satisfied: jinja2 in /opt/miniconda3/envs/rag_pipeline/lib/python3.9/site-packages (from torch->unstructured-inference==0.7.36->unstructured[all-docs]<0.16.0,>=0.15.7; python_version < \"3.13\" and extra == \"local\"->langchain-unstructured[local]) (3.1.4)\n",
      "Requirement already satisfied: fsspec in /opt/miniconda3/envs/rag_pipeline/lib/python3.9/site-packages (from torch->unstructured-inference==0.7.36->unstructured[all-docs]<0.16.0,>=0.15.7; python_version < \"3.13\" and extra == \"local\"->langchain-unstructured[local]) (2024.10.0)\n",
      "Requirement already satisfied: tokenizers<0.22,>=0.21 in /opt/miniconda3/envs/rag_pipeline/lib/python3.9/site-packages (from transformers>=4.25.1->unstructured-inference==0.7.36->unstructured[all-docs]<0.16.0,>=0.15.7; python_version < \"3.13\" and extra == \"local\"->langchain-unstructured[local]) (0.21.0)\n",
      "Requirement already satisfied: exceptiongroup>=1.0.2 in /opt/miniconda3/envs/rag_pipeline/lib/python3.9/site-packages (from anyio->httpx>=0.27.0->unstructured-client<1,>=0.27.0->langchain-unstructured[local]) (1.2.2)\n",
      "Requirement already satisfied: sniffio>=1.1 in /opt/miniconda3/envs/rag_pipeline/lib/python3.9/site-packages (from anyio->httpx>=0.27.0->unstructured-client<1,>=0.27.0->langchain-unstructured[local]) (1.3.1)\n",
      "Requirement already satisfied: scipy in /opt/miniconda3/envs/rag_pipeline/lib/python3.9/site-packages (from layoutparser->unstructured-inference==0.7.36->unstructured[all-docs]<0.16.0,>=0.15.7; python_version < \"3.13\" and extra == \"local\"->langchain-unstructured[local]) (1.13.1)\n",
      "Requirement already satisfied: iopath in /opt/miniconda3/envs/rag_pipeline/lib/python3.9/site-packages (from layoutparser->unstructured-inference==0.7.36->unstructured[all-docs]<0.16.0,>=0.15.7; python_version < \"3.13\" and extra == \"local\"->langchain-unstructured[local]) (0.1.10)\n",
      "Requirement already satisfied: pdfplumber in /opt/miniconda3/envs/rag_pipeline/lib/python3.9/site-packages (from layoutparser->unstructured-inference==0.7.36->unstructured[all-docs]<0.16.0,>=0.15.7; python_version < \"3.13\" and extra == \"local\"->langchain-unstructured[local]) (0.11.4)\n",
      "Requirement already satisfied: pyasn1<0.7.0,>=0.4.6 in /opt/miniconda3/envs/rag_pipeline/lib/python3.9/site-packages (from pyasn1-modules>=0.2.1->google-auth!=2.24.0,!=2.25.0,<3.0.0dev,>=2.14.1->google-cloud-vision->unstructured[all-docs]<0.16.0,>=0.15.7; python_version < \"3.13\" and extra == \"local\"->langchain-unstructured[local]) (0.6.1)\n",
      "Requirement already satisfied: portalocker in /opt/miniconda3/envs/rag_pipeline/lib/python3.9/site-packages (from iopath->layoutparser->unstructured-inference==0.7.36->unstructured[all-docs]<0.16.0,>=0.15.7; python_version < \"3.13\" and extra == \"local\"->langchain-unstructured[local]) (3.0.0)\n",
      "Requirement already satisfied: MarkupSafe>=2.0 in /opt/miniconda3/envs/rag_pipeline/lib/python3.9/site-packages (from jinja2->torch->unstructured-inference==0.7.36->unstructured[all-docs]<0.16.0,>=0.15.7; python_version < \"3.13\" and extra == \"local\"->langchain-unstructured[local]) (3.0.2)\n",
      "Requirement already satisfied: pypdfium2>=4.18.0 in /opt/miniconda3/envs/rag_pipeline/lib/python3.9/site-packages (from pdfplumber->layoutparser->unstructured-inference==0.7.36->unstructured[all-docs]<0.16.0,>=0.15.7; python_version < \"3.13\" and extra == \"local\"->langchain-unstructured[local]) (4.30.0)\n",
      "Using cached unstructured-0.15.14-py3-none-any.whl (2.1 MB)\n",
      "Using cached unstructured_inference-0.7.36-py3-none-any.whl (56 kB)\n",
      "Installing collected packages: unstructured, unstructured-inference\n",
      "  Attempting uninstall: unstructured\n",
      "    Found existing installation: unstructured 0.16.11\n",
      "    Uninstalling unstructured-0.16.11:\n",
      "      Successfully uninstalled unstructured-0.16.11\n",
      "  Attempting uninstall: unstructured-inference\n",
      "    Found existing installation: unstructured-inference 0.8.1\n",
      "    Uninstalling unstructured-inference-0.8.1:\n",
      "      Successfully uninstalled unstructured-inference-0.8.1\n",
      "Successfully installed unstructured-0.15.14 unstructured-inference-0.7.36\n",
      "Note: you may need to restart the kernel to use updated packages.\n"
     ]
    }
   ],
   "source": [
    "pip install \"langchain-unstructured[local]\""
   ]
  },
  {
   "cell_type": "code",
   "execution_count": 15,
   "id": "2b1532c8-362e-4c41-b9d2-cdf3e38d1811",
   "metadata": {},
   "outputs": [],
   "source": [
    "import getpass\n",
    "import os\n",
    "from dotenv import load_dotenv, find_dotenv\n",
    "from langchain_openai import ChatOpenAI\n",
    "from langchain_community.document_loaders import PyPDFLoader\n",
    "from langchain_huggingface import HuggingFaceEmbeddings\n",
    "from langchain_pinecone import PineconeVectorStore\n",
    "from pinecone import Pinecone\n",
    "from langchain_unstructured import UnstructuredLoader"
   ]
  },
  {
   "cell_type": "code",
   "execution_count": null,
   "id": "f916f129-da46-4730-99ff-b4f8a3b09579",
   "metadata": {},
   "outputs": [],
   "source": [
    "load_dotenv(find_dotenv(), override=True)\n",
    "# input keys below\n",
    "OPENAI_API_KEY=\"\"\n",
    "PINECONE_API_KEY=\"\"\n",
    "LANGCHAIN_API_KEY=\"\"\n",
    "UNSTRUCTURED_API_KEY=\"\"\n",
    "\n",
    "if \"UNSTRUCTURED_API_KEY\" not in os.environ:\n",
    "    os.environ[\"UNSTRUCTURED_API_KEY\"] = getpass.getpass(\"Unstructured API Key:\")\n",
    "\n",
    "llm = ChatOpenAI(model=\"gpt-4o-mini\")\n"
   ]
  },
  {
   "cell_type": "code",
   "execution_count": null,
   "id": "af25e3a1",
   "metadata": {},
   "outputs": [],
   "source": [
    "# AWS Credentials and S3 Configuration\n",
    "# input keys below\n",
    "AWS_ACCESS_KEY=\"\"\n",
    "AWS_SECRET_KEY=\"\"\n",
    "AWS_REGION = \"us-east-2\"  # Change to your preferred region\n",
    "BUCKET_NAME = \"my-textbook-bucket\"  # Replace with your S3 bucket name\n",
    "FILE_NAME = \"textbook.pdf\"  # Local file\n",
    "S3_KEY = \"uploads/textbook.pdf\"  # Path in S3 bucket"
   ]
  },
  {
   "cell_type": "code",
   "execution_count": null,
   "id": "ca77715b-c8a7-4499-a194-8357acd1f023",
   "metadata": {},
   "outputs": [],
   "source": [
    "print(\"LANGCHAIN_API_KEY\", LANGCHAIN_API_KEY)\n",
    "print(\"OPENAI_API_KEY\", OPENAI_API_KEY)\n",
    "print(\"UNSTRUCTURED_API_KEY\", UNSTRUCTURED_API_KEY)\n",
    "print(\"PINECONE_API_KEY\", PINECONE_API_KEY)\n",
    "print(\"AWS_ACCESS_KEY\", AWS_ACCESS_KEY)\n",
    "print(\"AWS_SECRET_KEY\", AWS_SECRET_KEY)"
   ]
  },
  {
   "cell_type": "code",
   "execution_count": 65,
   "id": "8781c1ee",
   "metadata": {
    "vscode": {
     "languageId": "plaintext"
    }
   },
   "outputs": [
    {
     "name": "stdout",
     "output_type": "stream",
     "text": [
      "Uploaded textbook.pdf to my-textbook-bucket/uploads/textbook.pdf\n"
     ]
    }
   ],
   "source": [
    "import boto3\n",
    "\n",
    "# Upload PDF to S3\n",
    "s3 = boto3.client('s3', aws_access_key_id=AWS_ACCESS_KEY, aws_secret_access_key=AWS_SECRET_KEY)\n",
    "s3.upload_file(FILE_NAME, BUCKET_NAME, S3_KEY)\n",
    "print(f\"Uploaded {FILE_NAME} to {BUCKET_NAME}/{S3_KEY}\")"
   ]
  },
  {
   "cell_type": "code",
   "execution_count": 72,
   "id": "33715321",
   "metadata": {
    "vscode": {
     "languageId": "plaintext"
    }
   },
   "outputs": [
    {
     "name": "stdout",
     "output_type": "stream",
     "text": [
      "Started Textract job with ID: a3024216dfb3289b68534b1add08c36f986c7040eaf08c1537eeecb06498d547\n"
     ]
    }
   ],
   "source": [
    "\n",
    "# Start Textract job\n",
    "textract = boto3.client('textract', aws_access_key_id=AWS_ACCESS_KEY, aws_secret_access_key=AWS_SECRET_KEY, region_name=AWS_REGION)\n",
    "response = textract.start_document_text_detection(\n",
    "    DocumentLocation={'S3Object': {'Bucket': BUCKET_NAME, 'Name': S3_KEY}}\n",
    ")\n",
    "job_id = response['JobId']\n",
    "print(f\"Started Textract job with ID: {job_id}\")"
   ]
  },
  {
   "cell_type": "code",
   "execution_count": 74,
   "id": "e85dacdd",
   "metadata": {
    "vscode": {
     "languageId": "plaintext"
    }
   },
   "outputs": [
    {
     "name": "stdout",
     "output_type": "stream",
     "text": [
      "Waiting for Textract to complete...\n",
      "Waiting for Textract to complete...\n",
      "Waiting for Textract to complete...\n",
      "Waiting for Textract to complete...\n",
      "Waiting for Textract to complete...\n",
      "Waiting for Textract to complete...\n",
      "Waiting for Textract to complete...\n",
      "Waiting for Textract to complete...\n",
      "Waiting for Textract to complete...\n",
      "Waiting for Textract to complete...\n",
      "Waiting for Textract to complete...\n",
      "Waiting for Textract to complete...\n",
      "Waiting for Textract to complete...\n",
      "Waiting for Textract to complete...\n",
      "Extracted text from the PDF.\n"
     ]
    }
   ],
   "source": [
    "import time\n",
    "# Wait and retrieve job results\n",
    "def get_textract_results(job_id):\n",
    "    while True:\n",
    "        response = textract.get_document_text_detection(JobId=job_id)\n",
    "        status = response['JobStatus']\n",
    "        if status in ['SUCCEEDED', 'FAILED']:\n",
    "            break\n",
    "        print(\"Waiting for Textract to complete...\")\n",
    "        time.sleep(5)\n",
    "    return response\n",
    "\n",
    "result = get_textract_results(job_id)\n",
    "pages = []\n",
    "for item in result['Blocks']:\n",
    "    if item['BlockType'] == 'LINE':\n",
    "        pages.append(item['Text'])\n",
    "print(\"Extracted text from the PDF.\")"
   ]
  },
  {
   "cell_type": "code",
   "execution_count": 75,
   "id": "e62f30c7",
   "metadata": {},
   "outputs": [
    {
     "name": "stdout",
     "output_type": "stream",
     "text": [
      "Loaded and split 14 document chunks.\n"
     ]
    }
   ],
   "source": [
    "from langchain_community.document_loaders import TextLoader\n",
    "from langchain.text_splitter import RecursiveCharacterTextSplitter\n",
    "\n",
    "# Create document loader and split into chunks\n",
    "text_content = \"\\n\".join(pages)\n",
    "text_loader = TextLoader(text_content)\n",
    "text_splitter = RecursiveCharacterTextSplitter(chunk_size=500, chunk_overlap=50)\n",
    "docs = text_splitter.split_text(text_content)\n",
    "print(f\"Loaded and split {len(docs)} document chunks.\")"
   ]
  },
  {
   "cell_type": "code",
   "execution_count": null,
   "id": "3ea9c542",
   "metadata": {},
   "outputs": [],
   "source": []
  },
  {
   "cell_type": "code",
   "execution_count": 76,
   "id": "83c335a2-8a1b-467c-8d1f-b51758fc0733",
   "metadata": {},
   "outputs": [
    {
     "data": {
      "application/vnd.jupyter.widget-view+json": {
       "model_id": "8ee4dcd033624f12831d53d4c1cec55a",
       "version_major": 2,
       "version_minor": 0
      },
      "text/plain": [
       "modules.json:   0%|          | 0.00/349 [00:00<?, ?B/s]"
      ]
     },
     "metadata": {},
     "output_type": "display_data"
    },
    {
     "data": {
      "application/vnd.jupyter.widget-view+json": {
       "model_id": "b401ec42adaa4b76b10a21c741ef3de3",
       "version_major": 2,
       "version_minor": 0
      },
      "text/plain": [
       "config_sentence_transformers.json:   0%|          | 0.00/116 [00:00<?, ?B/s]"
      ]
     },
     "metadata": {},
     "output_type": "display_data"
    },
    {
     "data": {
      "application/vnd.jupyter.widget-view+json": {
       "model_id": "2782b4afd62c4bd0b1eaeb20e4cfd9ca",
       "version_major": 2,
       "version_minor": 0
      },
      "text/plain": [
       "README.md:   0%|          | 0.00/10.6k [00:00<?, ?B/s]"
      ]
     },
     "metadata": {},
     "output_type": "display_data"
    },
    {
     "data": {
      "application/vnd.jupyter.widget-view+json": {
       "model_id": "318994bbb6c147a7805d25fdc3328aa3",
       "version_major": 2,
       "version_minor": 0
      },
      "text/plain": [
       "sentence_bert_config.json:   0%|          | 0.00/53.0 [00:00<?, ?B/s]"
      ]
     },
     "metadata": {},
     "output_type": "display_data"
    },
    {
     "data": {
      "application/vnd.jupyter.widget-view+json": {
       "model_id": "c1b8e17c3f114b6ea0c0ce721020aa61",
       "version_major": 2,
       "version_minor": 0
      },
      "text/plain": [
       "config.json:   0%|          | 0.00/571 [00:00<?, ?B/s]"
      ]
     },
     "metadata": {},
     "output_type": "display_data"
    },
    {
     "data": {
      "application/vnd.jupyter.widget-view+json": {
       "model_id": "10373a12cdb3433cbe20c8220235f5ce",
       "version_major": 2,
       "version_minor": 0
      },
      "text/plain": [
       "model.safetensors:   0%|          | 0.00/438M [00:00<?, ?B/s]"
      ]
     },
     "metadata": {},
     "output_type": "display_data"
    },
    {
     "data": {
      "application/vnd.jupyter.widget-view+json": {
       "model_id": "5d086f07ac1f46d7ac4ca9af06e90020",
       "version_major": 2,
       "version_minor": 0
      },
      "text/plain": [
       "tokenizer_config.json:   0%|          | 0.00/363 [00:00<?, ?B/s]"
      ]
     },
     "metadata": {},
     "output_type": "display_data"
    },
    {
     "data": {
      "application/vnd.jupyter.widget-view+json": {
       "model_id": "6795cfdf6f454ca9baa7be819b338911",
       "version_major": 2,
       "version_minor": 0
      },
      "text/plain": [
       "vocab.txt:   0%|          | 0.00/232k [00:00<?, ?B/s]"
      ]
     },
     "metadata": {},
     "output_type": "display_data"
    },
    {
     "data": {
      "application/vnd.jupyter.widget-view+json": {
       "model_id": "c7eb52d32d65451fa3a5663d5278ea7c",
       "version_major": 2,
       "version_minor": 0
      },
      "text/plain": [
       "tokenizer.json:   0%|          | 0.00/466k [00:00<?, ?B/s]"
      ]
     },
     "metadata": {},
     "output_type": "display_data"
    },
    {
     "data": {
      "application/vnd.jupyter.widget-view+json": {
       "model_id": "f2926cd4696645a08d6cb43174410da3",
       "version_major": 2,
       "version_minor": 0
      },
      "text/plain": [
       "special_tokens_map.json:   0%|          | 0.00/239 [00:00<?, ?B/s]"
      ]
     },
     "metadata": {},
     "output_type": "display_data"
    },
    {
     "data": {
      "application/vnd.jupyter.widget-view+json": {
       "model_id": "61db938186144de788896402738f22d6",
       "version_major": 2,
       "version_minor": 0
      },
      "text/plain": [
       "1_Pooling/config.json:   0%|          | 0.00/190 [00:00<?, ?B/s]"
      ]
     },
     "metadata": {},
     "output_type": "display_data"
    }
   ],
   "source": [
    "# Initialize components\n",
    "llm = ChatOpenAI(model=\"gpt-4o-mini\", api_key=OPENAI_API_KEY)\n",
    "embeddings = HuggingFaceEmbeddings(model_name=\"sentence-transformers/all-mpnet-base-v2\")\n",
    "pinecone = Pinecone(api_key=PINECONE_API_KEY)"
   ]
  },
  {
   "cell_type": "code",
   "execution_count": 105,
   "id": "98673e2e-e107-4f00-9f15-df0a3eefec60",
   "metadata": {},
   "outputs": [
    {
     "name": "stdout",
     "output_type": "stream",
     "text": [
      "Index description: {'deletion_protection': 'disabled',\n",
      " 'dimension': 768,\n",
      " 'host': 'textbook-index-t7cj4ax.svc.aped-4627-b74a.pinecone.io',\n",
      " 'metric': 'cosine',\n",
      " 'name': 'textbook-index',\n",
      " 'spec': {'serverless': {'cloud': 'aws', 'region': 'us-east-1'}},\n",
      " 'status': {'ready': True, 'state': 'Ready'}}\n",
      "Retrieved host: textbook-index-t7cj4ax.svc.aped-4627-b74a.pinecone.io\n",
      "Connected to index: textbook-index\n"
     ]
    }
   ],
   "source": [
    "import os\n",
    "from pinecone import Pinecone, Index, ServerlessSpec\n",
    "\n",
    "# Initialize Pinecone\n",
    "pc = Pinecone(api_key=PINECONE_API_KEY)\n",
    "\n",
    "# Define index name and embedding dimension\n",
    "index_name = \"textbook-index\"\n",
    "embedding_dimension = 768\n",
    "\n",
    "# Check if the index already exists\n",
    "if index_name not in pc.list_indexes().names():\n",
    "    print(f\"Creating index: {index_name}\")\n",
    "    pc.create_index(\n",
    "        name=index_name,\n",
    "        dimension=embedding_dimension,\n",
    "        metric=\"cosine\",\n",
    "        spec=ServerlessSpec(\n",
    "            cloud=\"aws\",  # Cloud provider\n",
    "            region=\"us-east-1\"  # Supported region for your plan\n",
    "        )\n",
    "    )\n",
    "    print(f\"Created index: {index_name}\")\n",
    "\n",
    "# Describe the index and retrieve the host\n",
    "try:\n",
    "    index_description = pc.describe_index(index_name)\n",
    "    print(\"Index description:\", index_description)\n",
    "\n",
    "    # Retrieve host directly from 'host' field\n",
    "    host = index_description[\"host\"]\n",
    "    if not host:\n",
    "        raise ValueError(\"Host endpoint is empty. Ensure the index creation was successful.\")\n",
    "    print(\"Retrieved host:\", host)\n",
    "\n",
    "except Exception as e:\n",
    "    raise ValueError(f\"Error retrieving host for index {index_name}: {e}\")\n",
    "\n",
    "# Connect to the index using the Index class\n",
    "index = Index(api_key=PINECONE_API_KEY, host=host)\n",
    "print(f\"Connected to index: {index_name}\")\n"
   ]
  },
  {
   "cell_type": "code",
   "execution_count": 20,
   "id": "cd5bd70f-30b5-41b2-a39b-b3d07620ca8b",
   "metadata": {},
   "outputs": [
    {
     "name": "stdout",
     "output_type": "stream",
     "text": [
      "Loaded 188 pages of text from Amazon Textract.\n",
      "N.R. Galloway\n",
      "\n",
      "\n",
      "and W.M.K. Amoaku\n",
      "\n",
      "\n",
      "Common Eye Diseases\n",
      "\n",
      "\n",
      "and their Management\n",
      "\n",
      "\n",
      "Second Edition\n",
      "\n",
      "\n",
      "Springer\n",
      "\n"
     ]
    }
   ],
   "source": [
    "from langchain_community.document_loaders import AmazonTextractPDFLoader\n",
    "import boto3\n",
    "\n",
    "# Configure AWS Textract client\n",
    "textract_client = boto3.client(\n",
    "    'textract',\n",
    "    aws_access_key_id=AWS_ACCESS_KEY,\n",
    "    aws_secret_access_key=AWS_SECRET_KEY,\n",
    "    region_name=AWS_REGION\n",
    ")\n",
    "\n",
    "# Define S3 file path\n",
    "s3_path = f\"s3://{BUCKET_NAME}/{S3_KEY}\"\n",
    "\n",
    "# Initialize Textract Loader\n",
    "loader = AmazonTextractPDFLoader(\n",
    "    file_path=s3_path,\n",
    "    client=textract_client  # Pass the configured boto3 client\n",
    ")\n",
    "\n",
    "# Load and process the document\n",
    "docs = loader.load()\n",
    "print(f\"Loaded {len(docs)} pages of text from Amazon Textract.\")\n",
    "\n",
    "# Example output of the first page\n",
    "print(docs[0].page_content)\n"
   ]
  },
  {
   "cell_type": "code",
   "execution_count": 21,
   "id": "a1b32f06",
   "metadata": {},
   "outputs": [
    {
     "name": "stderr",
     "output_type": "stream",
     "text": [
      "/var/folders/6h/16gn0szx5dv9mhd7v9m0w5jh0000gn/T/ipykernel_5731/1044355300.py:16: LangChainDeprecationWarning: The class `HuggingFaceEmbeddings` was deprecated in LangChain 0.2.2 and will be removed in 1.0. An updated version of the class exists in the :class:`~langchain-huggingface package and should be used instead. To use it run `pip install -U :class:`~langchain-huggingface` and import as `from :class:`~langchain_huggingface import HuggingFaceEmbeddings``.\n",
      "  vector_store = PineconeVectorStore(embedding=HuggingFaceEmbeddings(model_name=\"sentence-transformers/all-mpnet-base-v2\"), index=index)\n"
     ]
    },
    {
     "name": "stdout",
     "output_type": "stream",
     "text": [
      "Textbook successfully indexed.\n"
     ]
    }
   ],
   "source": [
    "from langchain.text_splitter import RecursiveCharacterTextSplitter\n",
    "from langchain.embeddings.huggingface import HuggingFaceEmbeddings\n",
    "from langchain_pinecone import PineconeVectorStore\n",
    "from pinecone import Pinecone\n",
    "\n",
    "# Text splitting\n",
    "text_splitter = RecursiveCharacterTextSplitter(chunk_size=500, chunk_overlap=100)\n",
    "chunks = text_splitter.split_documents(docs)\n",
    "\n",
    "# Initialize Pinecone\n",
    "pinecone = Pinecone(api_key=PINECONE_API_KEY)\n",
    "index_name = \"textbook-index\"\n",
    "if index_name not in pinecone.list_indexes().names():\n",
    "    pinecone.create_index(index_name, dimension=768)\n",
    "index = pinecone.Index(index_name)\n",
    "vector_store = PineconeVectorStore(embedding=HuggingFaceEmbeddings(model_name=\"sentence-transformers/all-mpnet-base-v2\"), index=index)\n",
    "\n",
    "# Add chunks to Pinecone\n",
    "vector_store.add_documents(chunks)\n",
    "print(\"Textbook successfully indexed.\")"
   ]
  },
  {
   "cell_type": "code",
   "execution_count": 24,
   "id": "60c3e487-ce0e-4ea9-b156-d131f2fe021b",
   "metadata": {},
   "outputs": [
    {
     "name": "stderr",
     "output_type": "stream",
     "text": [
      "huggingface/tokenizers: The current process just got forked, after parallelism has already been used. Disabling parallelism to avoid deadlocks...\n",
      "To disable this warning, you can either:\n",
      "\t- Avoid using `tokenizers` before the fork if possible\n",
      "\t- Explicitly set the environment variable TOKENIZERS_PARALLELISM=(true | false)\n"
     ]
    },
    {
     "name": "stdout",
     "output_type": "stream",
     "text": [
      "Collecting langgraph\n",
      "  Downloading langgraph-0.2.60-py3-none-any.whl.metadata (15 kB)\n",
      "Requirement already satisfied: langchain-core!=0.3.0,!=0.3.1,!=0.3.10,!=0.3.11,!=0.3.12,!=0.3.13,!=0.3.14,!=0.3.15,!=0.3.16,!=0.3.17,!=0.3.18,!=0.3.19,!=0.3.2,!=0.3.20,!=0.3.21,!=0.3.22,!=0.3.3,!=0.3.4,!=0.3.5,!=0.3.6,!=0.3.7,!=0.3.8,!=0.3.9,<0.4.0,>=0.2.43 in /opt/miniconda3/envs/rag_pipeline/lib/python3.9/site-packages (from langgraph) (0.3.27)\n",
      "Collecting langgraph-checkpoint<3.0.0,>=2.0.4 (from langgraph)\n",
      "  Downloading langgraph_checkpoint-2.0.9-py3-none-any.whl.metadata (4.6 kB)\n",
      "Collecting langgraph-sdk<0.2.0,>=0.1.42 (from langgraph)\n",
      "  Downloading langgraph_sdk-0.1.48-py3-none-any.whl.metadata (1.8 kB)\n",
      "Requirement already satisfied: PyYAML>=5.3 in /opt/miniconda3/envs/rag_pipeline/lib/python3.9/site-packages (from langchain-core!=0.3.0,!=0.3.1,!=0.3.10,!=0.3.11,!=0.3.12,!=0.3.13,!=0.3.14,!=0.3.15,!=0.3.16,!=0.3.17,!=0.3.18,!=0.3.19,!=0.3.2,!=0.3.20,!=0.3.21,!=0.3.22,!=0.3.3,!=0.3.4,!=0.3.5,!=0.3.6,!=0.3.7,!=0.3.8,!=0.3.9,<0.4.0,>=0.2.43->langgraph) (6.0.2)\n",
      "Requirement already satisfied: jsonpatch<2.0,>=1.33 in /opt/miniconda3/envs/rag_pipeline/lib/python3.9/site-packages (from langchain-core!=0.3.0,!=0.3.1,!=0.3.10,!=0.3.11,!=0.3.12,!=0.3.13,!=0.3.14,!=0.3.15,!=0.3.16,!=0.3.17,!=0.3.18,!=0.3.19,!=0.3.2,!=0.3.20,!=0.3.21,!=0.3.22,!=0.3.3,!=0.3.4,!=0.3.5,!=0.3.6,!=0.3.7,!=0.3.8,!=0.3.9,<0.4.0,>=0.2.43->langgraph) (1.33)\n",
      "Requirement already satisfied: langsmith<0.3,>=0.1.125 in /opt/miniconda3/envs/rag_pipeline/lib/python3.9/site-packages (from langchain-core!=0.3.0,!=0.3.1,!=0.3.10,!=0.3.11,!=0.3.12,!=0.3.13,!=0.3.14,!=0.3.15,!=0.3.16,!=0.3.17,!=0.3.18,!=0.3.19,!=0.3.2,!=0.3.20,!=0.3.21,!=0.3.22,!=0.3.3,!=0.3.4,!=0.3.5,!=0.3.6,!=0.3.7,!=0.3.8,!=0.3.9,<0.4.0,>=0.2.43->langgraph) (0.2.3)\n",
      "Requirement already satisfied: packaging<25,>=23.2 in /opt/miniconda3/envs/rag_pipeline/lib/python3.9/site-packages (from langchain-core!=0.3.0,!=0.3.1,!=0.3.10,!=0.3.11,!=0.3.12,!=0.3.13,!=0.3.14,!=0.3.15,!=0.3.16,!=0.3.17,!=0.3.18,!=0.3.19,!=0.3.2,!=0.3.20,!=0.3.21,!=0.3.22,!=0.3.3,!=0.3.4,!=0.3.5,!=0.3.6,!=0.3.7,!=0.3.8,!=0.3.9,<0.4.0,>=0.2.43->langgraph) (24.2)\n",
      "Requirement already satisfied: pydantic<3.0.0,>=2.5.2 in /opt/miniconda3/envs/rag_pipeline/lib/python3.9/site-packages (from langchain-core!=0.3.0,!=0.3.1,!=0.3.10,!=0.3.11,!=0.3.12,!=0.3.13,!=0.3.14,!=0.3.15,!=0.3.16,!=0.3.17,!=0.3.18,!=0.3.19,!=0.3.2,!=0.3.20,!=0.3.21,!=0.3.22,!=0.3.3,!=0.3.4,!=0.3.5,!=0.3.6,!=0.3.7,!=0.3.8,!=0.3.9,<0.4.0,>=0.2.43->langgraph) (2.9.2)\n",
      "Requirement already satisfied: tenacity!=8.4.0,<10.0.0,>=8.1.0 in /opt/miniconda3/envs/rag_pipeline/lib/python3.9/site-packages (from langchain-core!=0.3.0,!=0.3.1,!=0.3.10,!=0.3.11,!=0.3.12,!=0.3.13,!=0.3.14,!=0.3.15,!=0.3.16,!=0.3.17,!=0.3.18,!=0.3.19,!=0.3.2,!=0.3.20,!=0.3.21,!=0.3.22,!=0.3.3,!=0.3.4,!=0.3.5,!=0.3.6,!=0.3.7,!=0.3.8,!=0.3.9,<0.4.0,>=0.2.43->langgraph) (9.0.0)\n",
      "Requirement already satisfied: typing-extensions>=4.7 in /opt/miniconda3/envs/rag_pipeline/lib/python3.9/site-packages (from langchain-core!=0.3.0,!=0.3.1,!=0.3.10,!=0.3.11,!=0.3.12,!=0.3.13,!=0.3.14,!=0.3.15,!=0.3.16,!=0.3.17,!=0.3.18,!=0.3.19,!=0.3.2,!=0.3.20,!=0.3.21,!=0.3.22,!=0.3.3,!=0.3.4,!=0.3.5,!=0.3.6,!=0.3.7,!=0.3.8,!=0.3.9,<0.4.0,>=0.2.43->langgraph) (4.12.2)\n",
      "Collecting msgpack<2.0.0,>=1.1.0 (from langgraph-checkpoint<3.0.0,>=2.0.4->langgraph)\n",
      "  Downloading msgpack-1.1.0-cp39-cp39-macosx_11_0_arm64.whl.metadata (8.4 kB)\n",
      "Requirement already satisfied: httpx>=0.25.2 in /opt/miniconda3/envs/rag_pipeline/lib/python3.9/site-packages (from langgraph-sdk<0.2.0,>=0.1.42->langgraph) (0.28.1)\n",
      "Requirement already satisfied: orjson>=3.10.1 in /opt/miniconda3/envs/rag_pipeline/lib/python3.9/site-packages (from langgraph-sdk<0.2.0,>=0.1.42->langgraph) (3.10.12)\n",
      "Requirement already satisfied: anyio in /opt/miniconda3/envs/rag_pipeline/lib/python3.9/site-packages (from httpx>=0.25.2->langgraph-sdk<0.2.0,>=0.1.42->langgraph) (4.7.0)\n",
      "Requirement already satisfied: certifi in /opt/miniconda3/envs/rag_pipeline/lib/python3.9/site-packages (from httpx>=0.25.2->langgraph-sdk<0.2.0,>=0.1.42->langgraph) (2024.12.14)\n",
      "Requirement already satisfied: httpcore==1.* in /opt/miniconda3/envs/rag_pipeline/lib/python3.9/site-packages (from httpx>=0.25.2->langgraph-sdk<0.2.0,>=0.1.42->langgraph) (1.0.7)\n",
      "Requirement already satisfied: idna in /opt/miniconda3/envs/rag_pipeline/lib/python3.9/site-packages (from httpx>=0.25.2->langgraph-sdk<0.2.0,>=0.1.42->langgraph) (3.10)\n",
      "Requirement already satisfied: h11<0.15,>=0.13 in /opt/miniconda3/envs/rag_pipeline/lib/python3.9/site-packages (from httpcore==1.*->httpx>=0.25.2->langgraph-sdk<0.2.0,>=0.1.42->langgraph) (0.14.0)\n",
      "Requirement already satisfied: jsonpointer>=1.9 in /opt/miniconda3/envs/rag_pipeline/lib/python3.9/site-packages (from jsonpatch<2.0,>=1.33->langchain-core!=0.3.0,!=0.3.1,!=0.3.10,!=0.3.11,!=0.3.12,!=0.3.13,!=0.3.14,!=0.3.15,!=0.3.16,!=0.3.17,!=0.3.18,!=0.3.19,!=0.3.2,!=0.3.20,!=0.3.21,!=0.3.22,!=0.3.3,!=0.3.4,!=0.3.5,!=0.3.6,!=0.3.7,!=0.3.8,!=0.3.9,<0.4.0,>=0.2.43->langgraph) (3.0.0)\n",
      "Requirement already satisfied: requests<3,>=2 in /opt/miniconda3/envs/rag_pipeline/lib/python3.9/site-packages (from langsmith<0.3,>=0.1.125->langchain-core!=0.3.0,!=0.3.1,!=0.3.10,!=0.3.11,!=0.3.12,!=0.3.13,!=0.3.14,!=0.3.15,!=0.3.16,!=0.3.17,!=0.3.18,!=0.3.19,!=0.3.2,!=0.3.20,!=0.3.21,!=0.3.22,!=0.3.3,!=0.3.4,!=0.3.5,!=0.3.6,!=0.3.7,!=0.3.8,!=0.3.9,<0.4.0,>=0.2.43->langgraph) (2.32.3)\n",
      "Requirement already satisfied: requests-toolbelt<2.0.0,>=1.0.0 in /opt/miniconda3/envs/rag_pipeline/lib/python3.9/site-packages (from langsmith<0.3,>=0.1.125->langchain-core!=0.3.0,!=0.3.1,!=0.3.10,!=0.3.11,!=0.3.12,!=0.3.13,!=0.3.14,!=0.3.15,!=0.3.16,!=0.3.17,!=0.3.18,!=0.3.19,!=0.3.2,!=0.3.20,!=0.3.21,!=0.3.22,!=0.3.3,!=0.3.4,!=0.3.5,!=0.3.6,!=0.3.7,!=0.3.8,!=0.3.9,<0.4.0,>=0.2.43->langgraph) (1.0.0)\n",
      "Requirement already satisfied: annotated-types>=0.6.0 in /opt/miniconda3/envs/rag_pipeline/lib/python3.9/site-packages (from pydantic<3.0.0,>=2.5.2->langchain-core!=0.3.0,!=0.3.1,!=0.3.10,!=0.3.11,!=0.3.12,!=0.3.13,!=0.3.14,!=0.3.15,!=0.3.16,!=0.3.17,!=0.3.18,!=0.3.19,!=0.3.2,!=0.3.20,!=0.3.21,!=0.3.22,!=0.3.3,!=0.3.4,!=0.3.5,!=0.3.6,!=0.3.7,!=0.3.8,!=0.3.9,<0.4.0,>=0.2.43->langgraph) (0.7.0)\n",
      "Requirement already satisfied: pydantic-core==2.23.4 in /opt/miniconda3/envs/rag_pipeline/lib/python3.9/site-packages (from pydantic<3.0.0,>=2.5.2->langchain-core!=0.3.0,!=0.3.1,!=0.3.10,!=0.3.11,!=0.3.12,!=0.3.13,!=0.3.14,!=0.3.15,!=0.3.16,!=0.3.17,!=0.3.18,!=0.3.19,!=0.3.2,!=0.3.20,!=0.3.21,!=0.3.22,!=0.3.3,!=0.3.4,!=0.3.5,!=0.3.6,!=0.3.7,!=0.3.8,!=0.3.9,<0.4.0,>=0.2.43->langgraph) (2.23.4)\n",
      "Requirement already satisfied: charset-normalizer<4,>=2 in /opt/miniconda3/envs/rag_pipeline/lib/python3.9/site-packages (from requests<3,>=2->langsmith<0.3,>=0.1.125->langchain-core!=0.3.0,!=0.3.1,!=0.3.10,!=0.3.11,!=0.3.12,!=0.3.13,!=0.3.14,!=0.3.15,!=0.3.16,!=0.3.17,!=0.3.18,!=0.3.19,!=0.3.2,!=0.3.20,!=0.3.21,!=0.3.22,!=0.3.3,!=0.3.4,!=0.3.5,!=0.3.6,!=0.3.7,!=0.3.8,!=0.3.9,<0.4.0,>=0.2.43->langgraph) (3.4.0)\n",
      "Requirement already satisfied: urllib3<3,>=1.21.1 in /opt/miniconda3/envs/rag_pipeline/lib/python3.9/site-packages (from requests<3,>=2->langsmith<0.3,>=0.1.125->langchain-core!=0.3.0,!=0.3.1,!=0.3.10,!=0.3.11,!=0.3.12,!=0.3.13,!=0.3.14,!=0.3.15,!=0.3.16,!=0.3.17,!=0.3.18,!=0.3.19,!=0.3.2,!=0.3.20,!=0.3.21,!=0.3.22,!=0.3.3,!=0.3.4,!=0.3.5,!=0.3.6,!=0.3.7,!=0.3.8,!=0.3.9,<0.4.0,>=0.2.43->langgraph) (1.26.20)\n",
      "Requirement already satisfied: exceptiongroup>=1.0.2 in /opt/miniconda3/envs/rag_pipeline/lib/python3.9/site-packages (from anyio->httpx>=0.25.2->langgraph-sdk<0.2.0,>=0.1.42->langgraph) (1.2.2)\n",
      "Requirement already satisfied: sniffio>=1.1 in /opt/miniconda3/envs/rag_pipeline/lib/python3.9/site-packages (from anyio->httpx>=0.25.2->langgraph-sdk<0.2.0,>=0.1.42->langgraph) (1.3.1)\n",
      "Downloading langgraph-0.2.60-py3-none-any.whl (135 kB)\n",
      "Downloading langgraph_checkpoint-2.0.9-py3-none-any.whl (37 kB)\n",
      "Downloading langgraph_sdk-0.1.48-py3-none-any.whl (43 kB)\n",
      "Downloading msgpack-1.1.0-cp39-cp39-macosx_11_0_arm64.whl (81 kB)\n",
      "Installing collected packages: msgpack, langgraph-sdk, langgraph-checkpoint, langgraph\n",
      "Successfully installed langgraph-0.2.60 langgraph-checkpoint-2.0.9 langgraph-sdk-0.1.48 msgpack-1.1.0\n"
     ]
    }
   ],
   "source": [
    "!pip install langgraph\n"
   ]
  },
  {
   "cell_type": "code",
   "execution_count": 48,
   "id": "0ea442d3-439d-4b1f-be8b-aca42ebfc0e0",
   "metadata": {},
   "outputs": [
    {
     "name": "stdout",
     "output_type": "stream",
     "text": [
      "The image shows both eyes with several notable features:\n",
      "\n",
      "1. **Conjunctival Hyperemia**: There is significant redness in the conjunctiva, indicating increased blood flow, often associated with inflammation or irritation.\n",
      "\n",
      "2. **Proptosis**: The eyes appear to be protruding slightly, which could be indicative of orbital involvement or increased orbital pressure.\n",
      "\n",
      "3. **Eyelid Retraction**: The upper eyelids seem retracted, exposing more of the sclera above the cornea.\n",
      "\n",
      "4. **Periorbital Swelling**: There may be some swelling around the eyes, which could suggest inflammation or fluid retention.\n",
      "\n",
      "These observations could be consistent with conditions such as Graves' disease, conjunctivitis, or other orbital/ocular pathologies. Further examination, including a detailed history and possibly imaging or blood tests, would be necessary for accurate diagnosis.\n"
     ]
    }
   ],
   "source": [
    "import base64\n",
    "\n",
    "import httpx\n",
    "image_url = \"https://upload.wikimedia.org/wikipedia/commons/thumb/0/07/Acute_angle_closure_glaucoma.JPG/440px-Acute_angle_closure_glaucoma.JPG\"\n",
    "model = ChatOpenAI(model=\"gpt-4o\")\n",
    "image_data = base64.b64encode(httpx.get(image_url).content).decode(\"utf-8\")\n",
    "message = HumanMessage(\n",
    "    content=[\n",
    "        {\"type\": \"text\", \"text\": \"Here is an image of an eyeball. There are 6 diseases it could be: a - f. Describe this photo the way an eye doctor would do it:\\n\"},\n",
    "        {\n",
    "            \"type\": \"image_url\",\n",
    "            \"image_url\": {\"url\": f\"data:image/jpeg;base64,{image_data}\"},\n",
    "        },\n",
    "    ],\n",
    ")\n",
    "response = model.invoke([message])\n",
    "print(response.content)"
   ]
  },
  {
   "cell_type": "code",
   "execution_count": 49,
   "id": "4672fc52-61e1-4f38-a74d-98cb414339ba",
   "metadata": {},
   "outputs": [],
   "source": [
    "from langgraph.graph import START, StateGraph\n",
    "from typing_extensions import List, TypedDict\n",
    "from langchain_core.documents import Document\n",
    "from langchain_core.messages import HumanMessage\n",
    "from langchain import hub\n",
    "\n",
    "prompt = hub.pull(\"rlm/rag-prompt\")\n",
    "\n",
    "class State(TypedDict):\n",
    "    question: str\n",
    "    context: List[Document]\n",
    "    answer: str\n",
    "\n",
    "def retrieve(state: State):\n",
    "    retrieved_docs = vector_store.similarity_search(state[\"question\"])\n",
    "    return {\"context\": retrieved_docs}\n",
    "\n",
    "\n",
    "def generate(state: State):\n",
    "    docs_content = \"\\n\\n\".join(doc.page_content for doc in state[\"context\"])\n",
    "    messages = prompt.invoke({\"question\": state[\"question\"], \"context\": docs_content})\n",
    "    response = llm.invoke(messages)\n",
    "    return {\"answer\": response.content}\n",
    "\n",
    "\n",
    "graph_builder = StateGraph(State).add_sequence([retrieve, generate])\n",
    "graph_builder.add_edge(START, \"retrieve\")\n",
    "graph = graph_builder.compile()"
   ]
  },
  {
   "cell_type": "code",
   "execution_count": null,
   "id": "8f1d20f9-ee0c-4e9a-8e71-46bf7101d3be",
   "metadata": {},
   "outputs": [
    {
     "name": "stdout",
     "output_type": "stream",
     "text": [
      "Disease probabilities generated successfully.\n"
     ]
    }
   ],
   "source": [
    "def get_disease_probabilities() -> str:\n",
    "    nn_output = {\n",
    "        \"a Diabetic retinopathy\": 0.1,\n",
    "        \"b glaucoma\": 0.05,\n",
    "        \"c cataracts\": 0.7,\n",
    "        \"d age-related macular degeneration\": 0.05,\n",
    "        \"e pathological myopia\": 0.05,\n",
    "        \"f hypertensive retinopathy\": 0.05\n",
    "    }\n",
    "    \n",
    "    probs_str = \"\\n\".join([f\"{d}: {p}\" for d, p in nn_output.items()])\n",
    "    print(\"Disease probabilities generated successfully.\")\n",
    "    return probs_str\n",
    "\n",
    "probabilities_str = get_disease_probabilities()\n",
    "\n",
    "final_prompt = (\n",
    "        \"You are a doctor nerd. \"\n",
    "        \"We have a state-of-the-art machine learning model, and this is what it says the probabilities \"\n",
    "        \"of each disease are:\\n\"\n",
    "        f\"{probabilities_str}\\n\\n\"\n",
    "        \"Given all your years of being a doctor, what do you think? \"\n",
    "        \"Format: Keep it one word / from 1-6 or a-f.\"\n",
    "    )\n",
    "\n",
    "\n"
   ]
  },
  {
   "cell_type": "code",
   "execution_count": 52,
   "id": "f3f35f31-45ee-40b4-86bd-424ed06ad533",
   "metadata": {},
   "outputs": [
    {
     "name": "stdout",
     "output_type": "stream",
     "text": [
      "{'retrieve': {'context': [Document(id='8f903a4e-2b98-4f3a-99b8-a873dff39327', metadata={'page': 182.0, 'source': 's3://my-textbook-bucket/uploads/textbook.pdf'}, page_content='109\\n\\n\\ntime spent in hospital\\n\\n\\n78\\n\\n\\ndiabetes 147-8\\n\\n\\ntoxic 74\\n\\n\\ndiseases of\\n\\n\\n41-6\\n\\n\\ntraumatic 73, 77\\n\\n\\nmelanoma\\n\\n\\n111\\n\\n\\nwhen to operate 76-7\\n\\n\\nConjunctivitis 41, 55-6\\n\\n\\nCavernous haemangioma\\n\\n\\n110,\\n\\n\\n112\\n\\n\\nacute haemorrhagic\\n\\n\\n44\\n\\n\\nCentral retinal vein thrombosis\\n\\n\\n89\\n\\n\\nadenoviral 44\\n\\n\\nCentral retinal vein occlusion\\n\\n\\n89\\n\\n\\nallergic 44-6\\n\\n\\nCerebrospinal fluid\\n\\n\\n63\\n\\n\\nangular 43\\n\\n\\nChalazion 108\\n\\n\\nbacterial 42-3\\n\\n\\nChemical injuries 119\\n\\n\\ncauses 42\\n\\n\\nChemosis 153\\n\\n\\nchlamydia 43\\n\\n\\nChildren 141-6'), Document(id='36cd8f33-dd1b-4c5d-be01-d4da7d817049', metadata={'page': 182.0, 'source': 's3://my-textbook-bucket/uploads/textbook.pdf'}, page_content='109\\n\\n\\ntime spent in hospital\\n\\n\\n78\\n\\n\\ndiabetes 147-8\\n\\n\\ntoxic 74\\n\\n\\ndiseases of\\n\\n\\n41-6\\n\\n\\ntraumatic 73, 77\\n\\n\\nmelanoma\\n\\n\\n111\\n\\n\\nwhen to operate 76-7\\n\\n\\nConjunctivitis 41, 55-6\\n\\n\\nCavernous haemangioma\\n\\n\\n110,\\n\\n\\n112\\n\\n\\nacute haemorrhagic\\n\\n\\n44\\n\\n\\nCentral retinal vein thrombosis\\n\\n\\n89\\n\\n\\nadenoviral 44\\n\\n\\nCentral retinal vein occlusion\\n\\n\\n89\\n\\n\\nallergic 44-6\\n\\n\\nCerebrospinal fluid\\n\\n\\n63\\n\\n\\nangular 43\\n\\n\\nChalazion 108\\n\\n\\nbacterial 42-3\\n\\n\\nChemical injuries 119\\n\\n\\ncauses 42\\n\\n\\nChemosis 153\\n\\n\\nchlamydia 43\\n\\n\\nChildren 141-6'), Document(id='babc6ac1-266b-40bc-874f-30871b9c07ca', metadata={'page': 23.0, 'source': 's3://my-textbook-bucket/uploads/textbook.pdf'}, page_content='patient is presented with a number of different-sized\\n\\n\\non the second-to-bottom line. Patients reading this\\n\\n\\ntargets in different parts of the visual field, and a\\n\\n\\nline are said to have a vision of 6/6. If a patient\\n\\n\\nmap of the field of vision is charted. An accurate'), Document(id='103ee4a7-804f-4220-9387-ece1b3adc074', metadata={'page': 23.0, 'source': 's3://my-textbook-bucket/uploads/textbook.pdf'}, page_content='patient is presented with a number of different-sized\\n\\n\\non the second-to-bottom line. Patients reading this\\n\\n\\ntargets in different parts of the visual field, and a\\n\\n\\nline are said to have a vision of 6/6. If a patient\\n\\n\\nmap of the field of vision is charted. An accurate')]}}\n",
      "\n",
      "----------------\n",
      "\n",
      "{'generate': {'answer': 'c'}}\n",
      "\n",
      "----------------\n",
      "\n"
     ]
    }
   ],
   "source": [
    "for step in graph.stream(\n",
    "    {\"question\": final_prompt}, stream_mode=\"updates\"\n",
    "):\n",
    "    print(f\"{step}\\n\\n----------------\\n\")"
   ]
  },
  {
   "cell_type": "code",
   "execution_count": null,
   "id": "884c4bbd-b65d-4ba9-b624-adf8bb1afdd6",
   "metadata": {},
   "outputs": [],
   "source": []
  },
  {
   "cell_type": "code",
   "execution_count": null,
   "id": "e2c17eae-2e64-4775-bc2d-ef122f4ca5e4",
   "metadata": {},
   "outputs": [],
   "source": []
  },
  {
   "cell_type": "code",
   "execution_count": null,
   "id": "a6e85a1a-fc2e-44cd-9612-c2892ca1f74a",
   "metadata": {},
   "outputs": [],
   "source": []
  },
  {
   "cell_type": "code",
   "execution_count": null,
   "id": "0418c0f4-2b9a-49d2-9330-ea11778e760f",
   "metadata": {},
   "outputs": [],
   "source": []
  },
  {
   "cell_type": "code",
   "execution_count": null,
   "id": "17cb59c7-23c6-40eb-b383-d4104a5daa5b",
   "metadata": {},
   "outputs": [],
   "source": []
  }
 ],
 "metadata": {
  "kernelspec": {
   "display_name": "Python 3 (ipykernel)",
   "language": "python",
   "name": "python3"
  },
  "language_info": {
   "codemirror_mode": {
    "name": "ipython",
    "version": 3
   },
   "file_extension": ".py",
   "mimetype": "text/x-python",
   "name": "python",
   "nbconvert_exporter": "python",
   "pygments_lexer": "ipython3",
   "version": "3.9.21"
  }
 },
 "nbformat": 4,
 "nbformat_minor": 5
}
